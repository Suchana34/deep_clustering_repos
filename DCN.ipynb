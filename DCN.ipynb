{
  "nbformat": 4,
  "nbformat_minor": 0,
  "metadata": {
    "colab": {
      "name": "DCN.ipynb",
      "provenance": []
    },
    "kernelspec": {
      "name": "python3",
      "display_name": "Python 3"
    }
  },
  "cells": [
    {
      "cell_type": "code",
      "metadata": {
        "id": "CRheTTRU55zu",
        "colab_type": "code",
        "colab": {
          "base_uri": "https://localhost:8080/",
          "height": 84
        },
        "outputId": "95a5a583-dbac-499b-f34c-9e2a47ecf658"
      },
      "source": [
        "!git clone https://github.com/boyangumn/DCN-New.git"
      ],
      "execution_count": null,
      "outputs": [
        {
          "output_type": "stream",
          "text": [
            "Cloning into 'DCN-New'...\n",
            "remote: Enumerating objects: 38, done.\u001b[K\n",
            "remote: Total 38 (delta 0), reused 0 (delta 0), pack-reused 38\u001b[K\n",
            "Unpacking objects: 100% (38/38), done.\n"
          ],
          "name": "stdout"
        }
      ]
    },
    {
      "cell_type": "code",
      "metadata": {
        "id": "DW7pNEM66J3h",
        "colab_type": "code",
        "colab": {
          "base_uri": "https://localhost:8080/",
          "height": 34
        },
        "outputId": "0b4c84fa-81f6-4ef1-f233-11bdfed96529"
      },
      "source": [
        "!ls"
      ],
      "execution_count": null,
      "outputs": [
        {
          "output_type": "stream",
          "text": [
            "DCN  DCN-New  sample_data\n"
          ],
          "name": "stdout"
        }
      ]
    },
    {
      "cell_type": "code",
      "metadata": {
        "id": "5LV6C5clL6w5",
        "colab_type": "code",
        "colab": {
          "base_uri": "https://localhost:8080/",
          "height": 34
        },
        "outputId": "aa9ed6f1-64c0-4599-a767-26f7c9a79381"
      },
      "source": [
        "cd DCN-New/"
      ],
      "execution_count": null,
      "outputs": [
        {
          "output_type": "stream",
          "text": [
            "/content/DCN-New\n"
          ],
          "name": "stdout"
        }
      ]
    },
    {
      "cell_type": "code",
      "metadata": {
        "id": "v7qJjd1Fubwm",
        "colab_type": "code",
        "colab": {
          "base_uri": "https://localhost:8080/",
          "height": 67
        },
        "outputId": "c0de0321-ea83-4560-9652-5e41c701a8f0"
      },
      "source": [
        "!ls"
      ],
      "execution_count": null,
      "outputs": [
        {
          "output_type": "stream",
          "text": [
            "cluster_acc.py\t MNIST_results\t    run_raw_mnist.py\n",
            "data\t\t multi_layer_km.py  run_raw_mnist.sh\n",
            "mnist_loader.py  README.txt\t    Theano_example_code\n"
          ],
          "name": "stdout"
        }
      ]
    },
    {
      "cell_type": "code",
      "metadata": {
        "id": "8Q5WZvs-uj1I",
        "colab_type": "code",
        "colab": {
          "base_uri": "https://localhost:8080/",
          "height": 151
        },
        "outputId": "2b303e12-b2d4-4148-9368-024415e7e301"
      },
      "source": [
        "!python run_raw_mnist.py"
      ],
      "execution_count": null,
      "outputs": [
        {
          "output_type": "stream",
          "text": [
            "Traceback (most recent call last):\n",
            "  File \"run_raw_mnist.py\", line 17, in <module>\n",
            "    from multi_layer_km import test_SdC\n",
            "  File \"/content/DCN-New/multi_layer_km.py\", line 18, in <module>\n",
            "    from Theano_example_code.dA import dA\n",
            "  File \"/content/DCN-New/Theano_example_code/dA.py\", line 45, in <module>\n",
            "    from logistic_sgd import load_data\n",
            "ModuleNotFoundError: No module named 'logistic_sgd'\n"
          ],
          "name": "stdout"
        }
      ]
    },
    {
      "cell_type": "code",
      "metadata": {
        "id": "PJ1oIO80un_U",
        "colab_type": "code",
        "colab": {}
      },
      "source": [
        "!python cluster_acc.py"
      ],
      "execution_count": null,
      "outputs": []
    },
    {
      "cell_type": "code",
      "metadata": {
        "id": "sS8CcnT9wCbt",
        "colab_type": "code",
        "colab": {
          "base_uri": "https://localhost:8080/",
          "height": 118
        },
        "outputId": "85832e40-ebde-430f-db1d-6309554297c6"
      },
      "source": [
        "!python multi_layer_km.py"
      ],
      "execution_count": null,
      "outputs": [
        {
          "output_type": "stream",
          "text": [
            "Traceback (most recent call last):\n",
            "  File \"multi_layer_km.py\", line 18, in <module>\n",
            "    from Theano_example_code.dA import dA\n",
            "  File \"/content/DCN-New/Theano_example_code/dA.py\", line 45, in <module>\n",
            "    from logistic_sgd import load_data\n",
            "ModuleNotFoundError: No module named 'logistic_sgd'\n"
          ],
          "name": "stdout"
        }
      ]
    },
    {
      "cell_type": "code",
      "metadata": {
        "id": "5n6TZP30wGQn",
        "colab_type": "code",
        "colab": {
          "base_uri": "https://localhost:8080/",
          "height": 34
        },
        "outputId": "41df5a68-2e14-466b-a734-17a8ea2e1504"
      },
      "source": [
        "cd Theano_example_code/"
      ],
      "execution_count": null,
      "outputs": [
        {
          "output_type": "stream",
          "text": [
            "/content/DCN-New/Theano_example_code\n"
          ],
          "name": "stdout"
        }
      ]
    },
    {
      "cell_type": "code",
      "metadata": {
        "id": "AUlX8m48wTco",
        "colab_type": "code",
        "colab": {
          "base_uri": "https://localhost:8080/",
          "height": 286
        },
        "outputId": "a92b5f06-9902-4a9e-d83f-7dcba02ffc8c"
      },
      "source": [
        "!python dA.py"
      ],
      "execution_count": null,
      "outputs": [
        {
          "output_type": "stream",
          "text": [
            "Downloading data from http://www.iro.umontreal.ca/~lisa/deep/data/mnist/mnist.pkl.gz\n",
            "... loading data\n",
            "WARNING (theano.tensor.blas): We did not find a dynamic library in the library_dir of the library we use for blas. If you use ATLAS, make sure to compile it with dynamics library.\n",
            "Training epoch 0, cost  63.28916942011242\n",
            "Training epoch 1, cost  55.786656544348176\n",
            "Training epoch 2, cost  54.76311689838388\n",
            "Training epoch 3, cost  54.242053351418534\n",
            "Training epoch 4, cost  53.88867065902853\n",
            "Traceback (most recent call last):\n",
            "  File \"dA.py\", line 420, in <module>\n",
            "    test_dA()\n",
            "  File \"dA.py\", line 337, in test_dA\n",
            "    c.append(train_da(batch_index))\n",
            "  File \"/usr/local/lib/python3.6/dist-packages/theano/compile/function_module.py\", line 903, in __call__\n",
            "    self.fn() if output_subset is None else\\\n",
            "KeyboardInterrupt\n"
          ],
          "name": "stdout"
        }
      ]
    },
    {
      "cell_type": "code",
      "metadata": {
        "id": "iZ8NDeH_wYSs",
        "colab_type": "code",
        "colab": {
          "base_uri": "https://localhost:8080/",
          "height": 101
        },
        "outputId": "61e4ae9f-5887-4c1d-bb21-5cdab88676c5"
      },
      "source": [
        "!ls"
      ],
      "execution_count": null,
      "outputs": [
        {
          "output_type": "stream",
          "text": [
            "cA.py\t\t      hmc\t\t  logistic_sgd.py  rnnrbm.py\n",
            "convolutional_mlp.py  imdb_preprocess.py  lstm.py\t   rnnslu.py\n",
            "dA_plots\t      imdb.py\t\t  mlp.py\t   SdA.py\n",
            "dA.py\t\t      __init__.py\t  __pycache__\t   test.py\n",
            "DBN.py\t\t      logistic_cg.py\t  rbm.py\t   utils.py\n"
          ],
          "name": "stdout"
        }
      ]
    },
    {
      "cell_type": "code",
      "metadata": {
        "id": "1dsFUp85y6Pk",
        "colab_type": "code",
        "colab": {}
      },
      "source": [
        ""
      ],
      "execution_count": null,
      "outputs": []
    }
  ]
}