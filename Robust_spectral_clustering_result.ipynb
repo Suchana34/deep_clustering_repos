{
  "nbformat": 4,
  "nbformat_minor": 0,
  "metadata": {
    "colab": {
      "name": "Robust_spectral_clustering_result.ipynb",
      "provenance": []
    },
    "kernelspec": {
      "name": "python3",
      "display_name": "Python 3"
    }
  },
  "cells": [
    {
      "cell_type": "code",
      "metadata": {
        "id": "5FIcHkz40HFV",
        "colab_type": "code",
        "colab": {}
      },
      "source": [
        "#clustering\n",
        "\n",
        "\n",
        "import numpy as np\n",
        "import scipy.sparse as sp\n",
        "from scipy.sparse.linalg import eigsh\n",
        "from sklearn.neighbors import kneighbors_graph\n",
        "from sklearn.cluster import k_means\n",
        "\n",
        "\n",
        "class RSC:\n",
        "    \"\"\"\n",
        "    Implementation of the method proposed in the paper:\n",
        "    'Robust Spectral Clustering for Noisy Data: Modeling Sparse Corruptions Improves Latent Embeddings'\n",
        "    If you publish material based on algorithms or evaluation measures obtained from this code,\n",
        "    then please note this in your acknowledgments and please cite the following paper:\n",
        "        Aleksandar Bojchevski, Yves Matkovic, and Stephan Günnemann.\n",
        "        2017. Robust Spectral Clustering for Noisy Data.\n",
        "        In Proceedings of KDD’17, August 13–17, 2017, Halifax, NS, Canada.\n",
        "    Copyright (C) 2017\n",
        "    Aleksandar Bojchevski\n",
        "    Yves Matkovic\n",
        "    Stephan Günnemann\n",
        "    Technical University of Munich, Germany\n",
        "    \"\"\"\n",
        "\n",
        "    def __init__(self, k, nn=15, theta=20, m=0.5, laplacian=1, n_iter=15, normalize=False, verbose=False):\n",
        "        \"\"\"\n",
        "        :param k: number of clusters\n",
        "        :param nn: number of neighbours to consider for constructing the KNN graph (excluding the node itself)\n",
        "        :param theta: number of corrupted edges to remove\n",
        "        :param m: minimum percentage of neighbours to keep per node (omega_i constraints)\n",
        "        :param n_iter: number of iterations of the alternating optimization procedure\n",
        "        :param laplacian: which graph Laplacian to use: 0: L, 1: L_rw, 2: L_sym\n",
        "        :param normalize: whether to row normalize the eigen vectors before performing k-means\n",
        "        :param verbose: verbosity\n",
        "        \"\"\"\n",
        "\n",
        "        self.k = k\n",
        "        self.nn = nn\n",
        "        self.theta = theta\n",
        "        self.m = m\n",
        "        self.n_iter = n_iter\n",
        "        self.normalize = normalize\n",
        "        self.verbose = verbose\n",
        "        self.laplacian = laplacian\n",
        "\n",
        "        if laplacian == 0:\n",
        "            if self.verbose:\n",
        "                print('Using unnormalized Laplacian L')\n",
        "        elif laplacian == 1:\n",
        "            if self.verbose:\n",
        "                print('Using random walk based normalized Laplacian L_rw')\n",
        "        elif laplacian == 2:\n",
        "            raise NotImplementedError('The symmetric normalized Laplacian L_sym is not implemented yet.')\n",
        "        else:\n",
        "            raise ValueError('Choice of graph Laplacian not valid. Please use 0, 1 or 2.')\n",
        "\n",
        "    def __latent_decomposition(self, X):\n",
        "        # compute the KNN graph\n",
        "        A = kneighbors_graph(X=X, n_neighbors=self.nn, metric='euclidean', include_self=False, mode='connectivity')\n",
        "        A = A.maximum(A.T)  # make the graph undirected\n",
        "\n",
        "        N = A.shape[0]  # number of nodes\n",
        "        deg = A.sum(0).A1  # node degrees\n",
        "\n",
        "        prev_trace = np.inf  # keep track of the trace for convergence\n",
        "        Ag = A.copy()\n",
        "\n",
        "        for it in range(self.n_iter):\n",
        "\n",
        "            # form the unnormalized Laplacian\n",
        "            D = sp.diags(Ag.sum(0).A1).tocsc()\n",
        "            L = D - Ag\n",
        "\n",
        "            # solve the normal eigenvalue problem\n",
        "            if self.laplacian == 0:\n",
        "                h, H = eigsh(L, self.k, which='SM')\n",
        "            # solve the generalized eigenvalue problem\n",
        "            elif self.laplacian == 1:\n",
        "                h, H = eigsh(L, self.k, D, which='SM')\n",
        "\n",
        "            trace = h.sum()\n",
        "\n",
        "            if self.verbose:\n",
        "                print('Iter: {} Trace: {:.4f}'.format(it, trace))\n",
        "\n",
        "            if self.theta == 0:\n",
        "                # no edges are removed\n",
        "                Ac = sp.coo_matrix((N, N), [np.int])\n",
        "                break\n",
        "\n",
        "            if prev_trace - trace < 1e-10:\n",
        "                # we have converged\n",
        "                break\n",
        "\n",
        "            allowed_to_remove_per_node = (deg * self.m).astype(np.int)\n",
        "            prev_trace = trace\n",
        "\n",
        "            # consider only the edges on the lower triangular part since we are symmetric\n",
        "            edges = sp.tril(A).nonzero()\n",
        "            removed_edges = []\n",
        "\n",
        "            if self.laplacian == 1:\n",
        "                # fix for potential numerical instability of the eigenvalues computation\n",
        "                h[np.isclose(h, 0)] = 0\n",
        "\n",
        "                # equation (5) in the paper\n",
        "                p = np.linalg.norm(H[edges[0]] - H[edges[1]], axis=1) ** 2 \\\n",
        "                    - np.linalg.norm(H[edges[0]] * np.sqrt(h), axis=1) ** 2 \\\n",
        "                    - np.linalg.norm(H[edges[1]] * np.sqrt(h), axis=1) ** 2\n",
        "            else:\n",
        "                # equation (4) in the paper\n",
        "                p = np.linalg.norm(H[edges[0]] - H[edges[1]], axis=1) ** 2\n",
        "\n",
        "            # greedly remove the worst edges\n",
        "            for ind in p.argsort()[::-1]:\n",
        "                e_i, e_j, p_e = edges[0][ind], edges[1][ind], p[ind]\n",
        "\n",
        "                # remove the edge if it satisfies the constraints\n",
        "                if allowed_to_remove_per_node[e_i] > 0 and allowed_to_remove_per_node[e_j] > 0 and p_e > 0:\n",
        "                    allowed_to_remove_per_node[e_i] -= 1\n",
        "                    allowed_to_remove_per_node[e_j] -= 1\n",
        "                    removed_edges.append((e_i, e_j))\n",
        "                    if len(removed_edges) == self.theta:\n",
        "                        break\n",
        "\n",
        "            removed_edges = np.array(removed_edges)\n",
        "            Ac = sp.coo_matrix((np.ones(len(removed_edges)), (removed_edges[:, 0], removed_edges[:, 1])), shape=(N, N))\n",
        "            Ac = Ac.maximum(Ac.T)\n",
        "            Ag = A - Ac\n",
        "\n",
        "        return Ag, Ac, H\n",
        "\n",
        "    def fit_predict(self, X):\n",
        "        \"\"\"\n",
        "        :param X: array-like or sparse matrix, shape (n_samples, n_features)\n",
        "        :return: cluster labels ndarray, shape (n_samples,)\n",
        "        \"\"\"\n",
        "\n",
        "        Ag, Ac, H = self.__latent_decomposition(X)\n",
        "        self.Ag = Ag\n",
        "        self.Ac = Ac\n",
        "\n",
        "        if self.normalize:\n",
        "            self.H = H / np.linalg.norm(H, axis=1)[:, None]\n",
        "        else:\n",
        "            self.H = H\n",
        "\n",
        "        centroids, labels, *_ = k_means(X=self.H, n_clusters=self.k)\n",
        "\n",
        "        self.centroids = centroids\n",
        "        self.labels = labels\n",
        "\n",
        "        return labels"
      ],
      "execution_count": 1,
      "outputs": []
    },
    {
      "cell_type": "code",
      "metadata": {
        "id": "E1kwWN2KA_fo",
        "colab_type": "code",
        "colab": {}
      },
      "source": [
        ""
      ],
      "execution_count": null,
      "outputs": []
    },
    {
      "cell_type": "code",
      "metadata": {
        "id": "c2VKGHnvA97D",
        "colab_type": "code",
        "colab": {}
      },
      "source": [
        "#evaluation\n",
        "\n",
        "import numpy as np\n",
        "from scipy.spatial.distance import pdist, squareform\n",
        "from sklearn.neighbors import kneighbors_graph\n",
        "\n",
        "\n",
        "def __local_purity(H, y, nn):\n",
        "    \"\"\"\n",
        "    :param H: embedding to evaluate\n",
        "    :param y: ground-truth classes\n",
        "    :param nn: number of neighbours to consider\n",
        "    \"\"\"\n",
        "    A = kneighbors_graph(H, nn + 1, include_self=True)\n",
        "    neigbourhoods = A.dot(np.eye(y.max() + 1)[y])\n",
        "    frequencies = neigbourhoods / neigbourhoods.sum(1)[:, None]\n",
        "    purity = frequencies.max(axis=1)\n",
        "    return purity.mean()\n",
        "\n",
        "\n",
        "def local_purity(H, y, nn=None, num_samples=10):\n",
        "    \"\"\"\n",
        "    :param H: embedding to evaluate\n",
        "    :param y: ground-truth classes\n",
        "    :param nn: number of neighbours to consider, if nn=None evaluate for nn=[1...size of max cluster]\n",
        "    :param num_samples: number of samples in the range (1, size of max cluster)\n",
        "    \"\"\"\n",
        "    if nn is None:\n",
        "        max_size_cluster = np.unique(y, return_counts=True)[1].max()\n",
        "        return np.fromiter((__local_purity(H, y, nn)\n",
        "                            for nn in np.linspace(0, max_size_cluster, num_samples).astype(np.int32)), np.float32)\n",
        "    else:\n",
        "        return __local_purity(H, y, nn)\n",
        "\n",
        "\n",
        "def __P_c_cp(distances, y, c, cp, tr):\n",
        "    pcc = distances[y == c][:, y == cp].flatten()\n",
        "\n",
        "    if tr < 1.0:\n",
        "        k_smallest = int(len(pcc) * tr)\n",
        "        idx = np.argpartition(pcc, k_smallest)\n",
        "        return pcc[idx[:k_smallest]].mean()\n",
        "    else:\n",
        "        pcc.sort()\n",
        "        return pcc[:int(len(pcc) * tr)].mean()\n",
        "\n",
        "\n",
        "def __GS_c(distances, y, c, tr):\n",
        "    all_c = np.arange(y.max() + 1)\n",
        "    other_c = np.setdiff1d(all_c, c)\n",
        "\n",
        "    pcc = np.fromiter((__P_c_cp(distances, y, c, cp, tr) for cp in all_c), np.float32)\n",
        "    pcc_min = pcc[other_c].min()\n",
        "\n",
        "    return (pcc_min - pcc[c]) / np.maximum(pcc_min, pcc[c])\n",
        "\n",
        "\n",
        "def global_separation(H, y, k=None, num_samples=10):\n",
        "    \"\"\"\n",
        "    :param H: embedding to evaluate\n",
        "    :param y: ground-truth classes\n",
        "    :param k: if None evaluate all classes else only class k\n",
        "    :param num_samples: number of samples in the range (0, 100)%\n",
        "    :return:\n",
        "    \"\"\"\n",
        "    distances = squareform(pdist(H))\n",
        "    if k is None:\n",
        "        ranged = range(y.max() + 1)\n",
        "    else:\n",
        "        ranged = [k]\n",
        "\n",
        "    return np.fromiter((__GS_c(distances, y, c, tr)\n",
        "                        for c in ranged\n",
        "                        for tr in np.linspace(0.2, 1, num_samples)), np.float32).reshape((-1, num_samples))"
      ],
      "execution_count": 2,
      "outputs": []
    },
    {
      "cell_type": "code",
      "metadata": {
        "id": "QT2TJYtZA996",
        "colab_type": "code",
        "colab": {}
      },
      "source": [
        ""
      ],
      "execution_count": null,
      "outputs": []
    },
    {
      "cell_type": "code",
      "metadata": {
        "id": "GZGg-28nA93f",
        "colab_type": "code",
        "colab": {}
      },
      "source": [
        "from sklearn.cluster import SpectralClustering\n",
        "#from sklearn import datasets\n",
        "from sklearn.metrics import normalized_mutual_info_score as nmi\n",
        "\n",
        "#from rsc.clustering import RSC\n",
        "\n",
        "import matplotlib.pyplot as plt\n",
        "%matplotlib inline\n",
        "\n"
      ],
      "execution_count": 14,
      "outputs": []
    },
    {
      "cell_type": "code",
      "metadata": {
        "id": "sMoMdUP8DcGC",
        "colab_type": "code",
        "colab": {}
      },
      "source": [
        "from google.colab import drive\n",
        "#drive.mount('/content/drive')"
      ],
      "execution_count": 5,
      "outputs": []
    },
    {
      "cell_type": "code",
      "metadata": {
        "id": "dHzLVwa-EHFv",
        "colab_type": "code",
        "colab": {}
      },
      "source": [
        "import pandas as pd\n",
        "df = pd.read_csv('/content/drive/My Drive/edited_topics_all_news_set2.csv')"
      ],
      "execution_count": 6,
      "outputs": []
    },
    {
      "cell_type": "code",
      "metadata": {
        "id": "znmH8_wIGnyH",
        "colab_type": "code",
        "colab": {}
      },
      "source": [
        "X = df.processed_content"
      ],
      "execution_count": null,
      "outputs": []
    },
    {
      "cell_type": "code",
      "metadata": {
        "id": "gAniAS8yGlvZ",
        "colab_type": "code",
        "colab": {}
      },
      "source": [
        "from sklearn.feature_extraction.text import TfidfVectorizer\n",
        "vec = TfidfVectorizer(stop_words=\"english\")\n",
        "vec.fit(df.processed_content.values)\n",
        "X = vec.transform(df.processed_content.values)"
      ],
      "execution_count": 8,
      "outputs": []
    },
    {
      "cell_type": "code",
      "metadata": {
        "id": "Ajw_oHWMIlrZ",
        "colab_type": "code",
        "colab": {
          "base_uri": "https://localhost:8080/",
          "height": 34
        },
        "outputId": "320b64b6-03ff-4ed7-cc31-4c3105bf099d"
      },
      "source": [
        "y = pd.factorize(df.topic)[0]\n",
        "y"
      ],
      "execution_count": 16,
      "outputs": [
        {
          "output_type": "execute_result",
          "data": {
            "text/plain": [
              "array([ 0,  1,  0, ..., 60,  1,  1])"
            ]
          },
          "metadata": {
            "tags": []
          },
          "execution_count": 16
        }
      ]
    },
    {
      "cell_type": "code",
      "metadata": {
        "id": "YvLXRZN5BSn7",
        "colab_type": "code",
        "colab": {}
      },
      "source": [
        "#X, y = datasets.make_moons(600, shuffle=False, random_state=4, noise=0.1)\n",
        "import matplotlib.pyplot as plt\n",
        "\n",
        "\n",
        "k = 20\n",
        "nn = 15\n",
        "\n",
        "\n",
        "#plt.scatter(X[:, 0], X[:, 1], cmap='Accent', linewidths=0)\n",
        "#plt.title('Ground truth clusters');"
      ],
      "execution_count": 23,
      "outputs": []
    },
    {
      "cell_type": "code",
      "metadata": {
        "id": "SRLc09qmA92b",
        "colab_type": "code",
        "colab": {
          "base_uri": "https://localhost:8080/",
          "height": 134
        },
        "outputId": "1f45b377-67d6-4d26-dc22-7dfcd6f803b0"
      },
      "source": [
        "rsc = RSC(k=k, nn=nn, theta=10, verbose=True)\n",
        "y_rsc = rsc.fit_predict(X)\n",
        "\n",
        "sc = SpectralClustering(n_clusters=k, n_neighbors=nn+1, affinity='nearest_neighbors')  # nn+1 since they include self\n",
        "y_sc = sc.fit_predict(X)\n",
        "\n",
        "print('Vanilla Spectral Clustering NMI: {:.4f}\\n Robust Spectral Clustering NMI: {:.4f}'.format(nmi(y, y_sc), nmi(y, y_rsc)))"
      ],
      "execution_count": 24,
      "outputs": [
        {
          "output_type": "stream",
          "text": [
            "Using random walk based normalized Laplacian L_rw\n",
            "Iter: 0 Trace: 2.8357\n",
            "Iter: 1 Trace: 2.8039\n",
            "Iter: 2 Trace: 2.8028\n",
            "Iter: 3 Trace: 2.8028\n",
            "Vanilla Spectral Clustering NMI: 0.3445\n",
            " Robust Spectral Clustering NMI: 0.3416\n"
          ],
          "name": "stdout"
        }
      ]
    },
    {
      "cell_type": "code",
      "metadata": {
        "id": "WHNOVkhlBTEr",
        "colab_type": "code",
        "colab": {
          "base_uri": "https://localhost:8080/",
          "height": 336
        },
        "outputId": "68e03b07-c6e4-4cde-9f8b-cec946d51452"
      },
      "source": [
        "fig, ax = plt.subplots(1, 2, figsize=[15, 5])\n",
        "#ax[0].scatter(X[:, 0], X[:, 1],  cmap='Accent', linewidths=0)\n",
        "ax[0].set_title('Clusters obtained by Vanilla Spectral Clustering')\n",
        "\n",
        "#ax[1].scatter(X[0], X[0],  cmap='Accent', linewidths=0)\n",
        "ax[1].set_title('Clusters obtained by Robust Spectral Clustering');"
      ],
      "execution_count": 32,
      "outputs": [
        {
          "output_type": "display_data",
          "data": {
            "image/png": "[encoded data removed]",
            "text/plain": [
              "<Figure size 1080x360 with 2 Axes>"
            ]
          },
          "metadata": {
            "tags": [],
            "needs_background": "light"
          }
        }
      ]
    },
    {
      "cell_type": "code",
      "metadata": {
        "id": "AboEhoiWBVj3",
        "colab_type": "code",
        "colab": {
          "base_uri": "https://localhost:8080/",
          "height": 294
        },
        "outputId": "cf7d6c82-d682-4e19-ce4e-c806adb9155c"
      },
      "source": [
        "plt.scatter(rsc.H[:, 0], rsc.H[:, 1], c=y_rsc,  cmap='Accent', linewidths=0)\n",
        "plt.title('Embedding obtained by Robust Spectral Clustering');"
      ],
      "execution_count": 27,
      "outputs": [
        {
          "output_type": "display_data",
          "data": {
            "image/png": "[encoded data removed]",
            "text/plain": [
              "<Figure size 432x288 with 1 Axes>"
            ]
          },
          "metadata": {
            "tags": [],
            "needs_background": "light"
          }
        }
      ]
    },
    {
      "cell_type": "code",
      "metadata": {
        "id": "uUao-F2lKXHZ",
        "colab_type": "code",
        "colab": {}
      },
      "source": [
        ""
      ],
      "execution_count": null,
      "outputs": []
    }
  ]
}