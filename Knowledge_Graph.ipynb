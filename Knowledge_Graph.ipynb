{
  "nbformat": 4,
  "nbformat_minor": 0,
  "metadata": {
    "colab": {
      "name": "Knowledge_Graph.ipynb",
      "provenance": []
    },
    "kernelspec": {
      "name": "python3",
      "display_name": "Python 3"
    }
  },
  "cells": [
    {
      "cell_type": "code",
      "metadata": {
        "id": "X2d5Q-aTEIGF",
        "colab_type": "code",
        "colab": {
          "base_uri": "https://localhost:8080/",
          "height": 202
        },
        "outputId": "2047be89-62d7-462c-fe4b-6b257f47e825"
      },
      "source": [
        "!pip install rake-nltk"
      ],
      "execution_count": 1,
      "outputs": [
        {
          "output_type": "stream",
          "text": [
            "Collecting rake-nltk\n",
            "  Downloading https://files.pythonhosted.org/packages/8e/c4/b4ff57e541ac5624ad4b20b89c2bafd4e98f29fd83139f3a81858bdb3815/rake_nltk-1.0.4.tar.gz\n",
            "Requirement already satisfied: nltk in /usr/local/lib/python3.6/dist-packages (from rake-nltk) (3.2.5)\n",
            "Requirement already satisfied: six in /usr/local/lib/python3.6/dist-packages (from nltk->rake-nltk) (1.15.0)\n",
            "Building wheels for collected packages: rake-nltk\n",
            "  Building wheel for rake-nltk (setup.py) ... \u001b[?25l\u001b[?25hdone\n",
            "  Created wheel for rake-nltk: filename=rake_nltk-1.0.4-py2.py3-none-any.whl size=7819 sha256=ba1879477a3acfbfa5bf532ee66363387a2f9889cea095ef99134a5eab0cbbfc\n",
            "  Stored in directory: /root/.cache/pip/wheels/ef/92/fc/271b3709e71a96ffe934b27818946b795ac6b9b8ff8682483f\n",
            "Successfully built rake-nltk\n",
            "Installing collected packages: rake-nltk\n",
            "Successfully installed rake-nltk-1.0.4\n"
          ],
          "name": "stdout"
        }
      ]
    },
    {
      "cell_type": "code",
      "metadata": {
        "id": "NsnKRbAXgu7O",
        "colab_type": "code",
        "colab": {
          "base_uri": "https://localhost:8080/",
          "height": 605
        },
        "outputId": "fc3d5a7f-e6c2-46a2-b545-5e26d6639aef"
      },
      "source": [
        "!pip install pyLDAvis"
      ],
      "execution_count": 3,
      "outputs": [
        {
          "output_type": "stream",
          "text": [
            "Collecting pyLDAvis\n",
            "\u001b[?25l  Downloading https://files.pythonhosted.org/packages/a5/3a/af82e070a8a96e13217c8f362f9a73e82d61ac8fff3a2561946a97f96266/pyLDAvis-2.1.2.tar.gz (1.6MB)\n",
            "\r\u001b[K     |▏                               | 10kB 21.2MB/s eta 0:00:01\r\u001b[K     |▍                               | 20kB 6.6MB/s eta 0:00:01\r\u001b[K     |▋                               | 30kB 7.6MB/s eta 0:00:01\r\u001b[K     |▉                               | 40kB 8.2MB/s eta 0:00:01\r\u001b[K     |█                               | 51kB 6.8MB/s eta 0:00:01\r\u001b[K     |█▏                              | 61kB 7.2MB/s eta 0:00:01\r\u001b[K     |█▍                              | 71kB 7.7MB/s eta 0:00:01\r\u001b[K     |█▋                              | 81kB 8.2MB/s eta 0:00:01\r\u001b[K     |█▉                              | 92kB 7.7MB/s eta 0:00:01\r\u001b[K     |██                              | 102kB 7.9MB/s eta 0:00:01\r\u001b[K     |██▎                             | 112kB 7.9MB/s eta 0:00:01\r\u001b[K     |██▍                             | 122kB 7.9MB/s eta 0:00:01\r\u001b[K     |██▋                             | 133kB 7.9MB/s eta 0:00:01\r\u001b[K     |██▉                             | 143kB 7.9MB/s eta 0:00:01\r\u001b[K     |███                             | 153kB 7.9MB/s eta 0:00:01\r\u001b[K     |███▎                            | 163kB 7.9MB/s eta 0:00:01\r\u001b[K     |███▌                            | 174kB 7.9MB/s eta 0:00:01\r\u001b[K     |███▋                            | 184kB 7.9MB/s eta 0:00:01\r\u001b[K     |███▉                            | 194kB 7.9MB/s eta 0:00:01\r\u001b[K     |████                            | 204kB 7.9MB/s eta 0:00:01\r\u001b[K     |████▎                           | 215kB 7.9MB/s eta 0:00:01\r\u001b[K     |████▌                           | 225kB 7.9MB/s eta 0:00:01\r\u001b[K     |████▊                           | 235kB 7.9MB/s eta 0:00:01\r\u001b[K     |████▉                           | 245kB 7.9MB/s eta 0:00:01\r\u001b[K     |█████                           | 256kB 7.9MB/s eta 0:00:01\r\u001b[K     |█████▎                          | 266kB 7.9MB/s eta 0:00:01\r\u001b[K     |█████▌                          | 276kB 7.9MB/s eta 0:00:01\r\u001b[K     |█████▊                          | 286kB 7.9MB/s eta 0:00:01\r\u001b[K     |█████▉                          | 296kB 7.9MB/s eta 0:00:01\r\u001b[K     |██████                          | 307kB 7.9MB/s eta 0:00:01\r\u001b[K     |██████▎                         | 317kB 7.9MB/s eta 0:00:01\r\u001b[K     |██████▌                         | 327kB 7.9MB/s eta 0:00:01\r\u001b[K     |██████▊                         | 337kB 7.9MB/s eta 0:00:01\r\u001b[K     |███████                         | 348kB 7.9MB/s eta 0:00:01\r\u001b[K     |███████                         | 358kB 7.9MB/s eta 0:00:01\r\u001b[K     |███████▎                        | 368kB 7.9MB/s eta 0:00:01\r\u001b[K     |███████▌                        | 378kB 7.9MB/s eta 0:00:01\r\u001b[K     |███████▊                        | 389kB 7.9MB/s eta 0:00:01\r\u001b[K     |████████                        | 399kB 7.9MB/s eta 0:00:01\r\u001b[K     |████████▏                       | 409kB 7.9MB/s eta 0:00:01\r\u001b[K     |████████▎                       | 419kB 7.9MB/s eta 0:00:01\r\u001b[K     |████████▌                       | 430kB 7.9MB/s eta 0:00:01\r\u001b[K     |████████▊                       | 440kB 7.9MB/s eta 0:00:01\r\u001b[K     |█████████                       | 450kB 7.9MB/s eta 0:00:01\r\u001b[K     |█████████▏                      | 460kB 7.9MB/s eta 0:00:01\r\u001b[K     |█████████▍                      | 471kB 7.9MB/s eta 0:00:01\r\u001b[K     |█████████▌                      | 481kB 7.9MB/s eta 0:00:01\r\u001b[K     |█████████▊                      | 491kB 7.9MB/s eta 0:00:01\r\u001b[K     |██████████                      | 501kB 7.9MB/s eta 0:00:01\r\u001b[K     |██████████▏                     | 512kB 7.9MB/s eta 0:00:01\r\u001b[K     |██████████▍                     | 522kB 7.9MB/s eta 0:00:01\r\u001b[K     |██████████▋                     | 532kB 7.9MB/s eta 0:00:01\r\u001b[K     |██████████▊                     | 542kB 7.9MB/s eta 0:00:01\r\u001b[K     |███████████                     | 552kB 7.9MB/s eta 0:00:01\r\u001b[K     |███████████▏                    | 563kB 7.9MB/s eta 0:00:01\r\u001b[K     |███████████▍                    | 573kB 7.9MB/s eta 0:00:01\r\u001b[K     |███████████▋                    | 583kB 7.9MB/s eta 0:00:01\r\u001b[K     |███████████▊                    | 593kB 7.9MB/s eta 0:00:01\r\u001b[K     |████████████                    | 604kB 7.9MB/s eta 0:00:01\r\u001b[K     |████████████▏                   | 614kB 7.9MB/s eta 0:00:01\r\u001b[K     |████████████▍                   | 624kB 7.9MB/s eta 0:00:01\r\u001b[K     |████████████▋                   | 634kB 7.9MB/s eta 0:00:01\r\u001b[K     |████████████▉                   | 645kB 7.9MB/s eta 0:00:01\r\u001b[K     |█████████████                   | 655kB 7.9MB/s eta 0:00:01\r\u001b[K     |█████████████▏                  | 665kB 7.9MB/s eta 0:00:01\r\u001b[K     |█████████████▍                  | 675kB 7.9MB/s eta 0:00:01\r\u001b[K     |█████████████▋                  | 686kB 7.9MB/s eta 0:00:01\r\u001b[K     |█████████████▉                  | 696kB 7.9MB/s eta 0:00:01\r\u001b[K     |██████████████                  | 706kB 7.9MB/s eta 0:00:01\r\u001b[K     |██████████████▏                 | 716kB 7.9MB/s eta 0:00:01\r\u001b[K     |██████████████▍                 | 727kB 7.9MB/s eta 0:00:01\r\u001b[K     |██████████████▋                 | 737kB 7.9MB/s eta 0:00:01\r\u001b[K     |██████████████▉                 | 747kB 7.9MB/s eta 0:00:01\r\u001b[K     |███████████████                 | 757kB 7.9MB/s eta 0:00:01\r\u001b[K     |███████████████▎                | 768kB 7.9MB/s eta 0:00:01\r\u001b[K     |███████████████▍                | 778kB 7.9MB/s eta 0:00:01\r\u001b[K     |███████████████▋                | 788kB 7.9MB/s eta 0:00:01\r\u001b[K     |███████████████▉                | 798kB 7.9MB/s eta 0:00:01\r\u001b[K     |████████████████                | 808kB 7.9MB/s eta 0:00:01\r\u001b[K     |████████████████▎               | 819kB 7.9MB/s eta 0:00:01\r\u001b[K     |████████████████▌               | 829kB 7.9MB/s eta 0:00:01\r\u001b[K     |████████████████▋               | 839kB 7.9MB/s eta 0:00:01\r\u001b[K     |████████████████▉               | 849kB 7.9MB/s eta 0:00:01\r\u001b[K     |█████████████████               | 860kB 7.9MB/s eta 0:00:01\r\u001b[K     |█████████████████▎              | 870kB 7.9MB/s eta 0:00:01\r\u001b[K     |█████████████████▌              | 880kB 7.9MB/s eta 0:00:01\r\u001b[K     |█████████████████▋              | 890kB 7.9MB/s eta 0:00:01\r\u001b[K     |█████████████████▉              | 901kB 7.9MB/s eta 0:00:01\r\u001b[K     |██████████████████              | 911kB 7.9MB/s eta 0:00:01\r\u001b[K     |██████████████████▎             | 921kB 7.9MB/s eta 0:00:01\r\u001b[K     |██████████████████▌             | 931kB 7.9MB/s eta 0:00:01\r\u001b[K     |██████████████████▊             | 942kB 7.9MB/s eta 0:00:01\r\u001b[K     |██████████████████▉             | 952kB 7.9MB/s eta 0:00:01\r\u001b[K     |███████████████████             | 962kB 7.9MB/s eta 0:00:01\r\u001b[K     |███████████████████▎            | 972kB 7.9MB/s eta 0:00:01\r\u001b[K     |███████████████████▌            | 983kB 7.9MB/s eta 0:00:01\r\u001b[K     |███████████████████▊            | 993kB 7.9MB/s eta 0:00:01\r\u001b[K     |████████████████████            | 1.0MB 7.9MB/s eta 0:00:01\r\u001b[K     |████████████████████            | 1.0MB 7.9MB/s eta 0:00:01\r\u001b[K     |████████████████████▎           | 1.0MB 7.9MB/s eta 0:00:01\r\u001b[K     |████████████████████▌           | 1.0MB 7.9MB/s eta 0:00:01\r\u001b[K     |████████████████████▊           | 1.0MB 7.9MB/s eta 0:00:01\r\u001b[K     |█████████████████████           | 1.1MB 7.9MB/s eta 0:00:01\r\u001b[K     |█████████████████████▏          | 1.1MB 7.9MB/s eta 0:00:01\r\u001b[K     |█████████████████████▎          | 1.1MB 7.9MB/s eta 0:00:01\r\u001b[K     |█████████████████████▌          | 1.1MB 7.9MB/s eta 0:00:01\r\u001b[K     |█████████████████████▊          | 1.1MB 7.9MB/s eta 0:00:01\r\u001b[K     |██████████████████████          | 1.1MB 7.9MB/s eta 0:00:01\r\u001b[K     |██████████████████████▏         | 1.1MB 7.9MB/s eta 0:00:01\r\u001b[K     |██████████████████████▍         | 1.1MB 7.9MB/s eta 0:00:01\r\u001b[K     |██████████████████████▌         | 1.1MB 7.9MB/s eta 0:00:01\r\u001b[K     |██████████████████████▊         | 1.1MB 7.9MB/s eta 0:00:01\r\u001b[K     |███████████████████████         | 1.2MB 7.9MB/s eta 0:00:01\r\u001b[K     |███████████████████████▏        | 1.2MB 7.9MB/s eta 0:00:01\r\u001b[K     |███████████████████████▍        | 1.2MB 7.9MB/s eta 0:00:01\r\u001b[K     |███████████████████████▌        | 1.2MB 7.9MB/s eta 0:00:01\r\u001b[K     |███████████████████████▊        | 1.2MB 7.9MB/s eta 0:00:01\r\u001b[K     |████████████████████████        | 1.2MB 7.9MB/s eta 0:00:01\r\u001b[K     |████████████████████████▏       | 1.2MB 7.9MB/s eta 0:00:01\r\u001b[K     |████████████████████████▍       | 1.2MB 7.9MB/s eta 0:00:01\r\u001b[K     |████████████████████████▋       | 1.2MB 7.9MB/s eta 0:00:01\r\u001b[K     |████████████████████████▊       | 1.2MB 7.9MB/s eta 0:00:01\r\u001b[K     |█████████████████████████       | 1.3MB 7.9MB/s eta 0:00:01\r\u001b[K     |█████████████████████████▏      | 1.3MB 7.9MB/s eta 0:00:01\r\u001b[K     |█████████████████████████▍      | 1.3MB 7.9MB/s eta 0:00:01\r\u001b[K     |█████████████████████████▋      | 1.3MB 7.9MB/s eta 0:00:01\r\u001b[K     |█████████████████████████▉      | 1.3MB 7.9MB/s eta 0:00:01\r\u001b[K     |██████████████████████████      | 1.3MB 7.9MB/s eta 0:00:01\r\u001b[K     |██████████████████████████▏     | 1.3MB 7.9MB/s eta 0:00:01\r\u001b[K     |██████████████████████████▍     | 1.3MB 7.9MB/s eta 0:00:01\r\u001b[K     |██████████████████████████▋     | 1.3MB 7.9MB/s eta 0:00:01\r\u001b[K     |██████████████████████████▉     | 1.4MB 7.9MB/s eta 0:00:01\r\u001b[K     |███████████████████████████     | 1.4MB 7.9MB/s eta 0:00:01\r\u001b[K     |███████████████████████████▏    | 1.4MB 7.9MB/s eta 0:00:01\r\u001b[K     |███████████████████████████▍    | 1.4MB 7.9MB/s eta 0:00:01\r\u001b[K     |███████████████████████████▋    | 1.4MB 7.9MB/s eta 0:00:01\r\u001b[K     |███████████████████████████▉    | 1.4MB 7.9MB/s eta 0:00:01\r\u001b[K     |████████████████████████████    | 1.4MB 7.9MB/s eta 0:00:01\r\u001b[K     |████████████████████████████▏   | 1.4MB 7.9MB/s eta 0:00:01\r\u001b[K     |████████████████████████████▍   | 1.4MB 7.9MB/s eta 0:00:01\r\u001b[K     |████████████████████████████▋   | 1.4MB 7.9MB/s eta 0:00:01\r\u001b[K     |████████████████████████████▉   | 1.5MB 7.9MB/s eta 0:00:01\r\u001b[K     |█████████████████████████████   | 1.5MB 7.9MB/s eta 0:00:01\r\u001b[K     |█████████████████████████████▎  | 1.5MB 7.9MB/s eta 0:00:01\r\u001b[K     |█████████████████████████████▍  | 1.5MB 7.9MB/s eta 0:00:01\r\u001b[K     |█████████████████████████████▋  | 1.5MB 7.9MB/s eta 0:00:01\r\u001b[K     |█████████████████████████████▉  | 1.5MB 7.9MB/s eta 0:00:01\r\u001b[K     |██████████████████████████████  | 1.5MB 7.9MB/s eta 0:00:01\r\u001b[K     |██████████████████████████████▎ | 1.5MB 7.9MB/s eta 0:00:01\r\u001b[K     |██████████████████████████████▌ | 1.5MB 7.9MB/s eta 0:00:01\r\u001b[K     |██████████████████████████████▋ | 1.5MB 7.9MB/s eta 0:00:01\r\u001b[K     |██████████████████████████████▉ | 1.6MB 7.9MB/s eta 0:00:01\r\u001b[K     |███████████████████████████████ | 1.6MB 7.9MB/s eta 0:00:01\r\u001b[K     |███████████████████████████████▎| 1.6MB 7.9MB/s eta 0:00:01\r\u001b[K     |███████████████████████████████▌| 1.6MB 7.9MB/s eta 0:00:01\r\u001b[K     |███████████████████████████████▊| 1.6MB 7.9MB/s eta 0:00:01\r\u001b[K     |███████████████████████████████▉| 1.6MB 7.9MB/s eta 0:00:01\r\u001b[K     |████████████████████████████████| 1.6MB 7.9MB/s \n",
            "\u001b[?25hRequirement already satisfied: wheel>=0.23.0 in /usr/local/lib/python3.6/dist-packages (from pyLDAvis) (0.34.2)\n",
            "Requirement already satisfied: numpy>=1.9.2 in /usr/local/lib/python3.6/dist-packages (from pyLDAvis) (1.18.5)\n",
            "Requirement already satisfied: scipy>=0.18.0 in /usr/local/lib/python3.6/dist-packages (from pyLDAvis) (1.4.1)\n",
            "Requirement already satisfied: pandas>=0.17.0 in /usr/local/lib/python3.6/dist-packages (from pyLDAvis) (1.0.5)\n",
            "Requirement already satisfied: joblib>=0.8.4 in /usr/local/lib/python3.6/dist-packages (from pyLDAvis) (0.16.0)\n",
            "Requirement already satisfied: jinja2>=2.7.2 in /usr/local/lib/python3.6/dist-packages (from pyLDAvis) (2.11.2)\n",
            "Requirement already satisfied: numexpr in /usr/local/lib/python3.6/dist-packages (from pyLDAvis) (2.7.1)\n",
            "Requirement already satisfied: pytest in /usr/local/lib/python3.6/dist-packages (from pyLDAvis) (3.6.4)\n",
            "Requirement already satisfied: future in /usr/local/lib/python3.6/dist-packages (from pyLDAvis) (0.16.0)\n",
            "Collecting funcy\n",
            "\u001b[?25l  Downloading https://files.pythonhosted.org/packages/ce/4b/6ffa76544e46614123de31574ad95758c421aae391a1764921b8a81e1eae/funcy-1.14.tar.gz (548kB)\n",
            "\u001b[K     |████████████████████████████████| 552kB 46.8MB/s \n",
            "\u001b[?25hRequirement already satisfied: python-dateutil>=2.6.1 in /usr/local/lib/python3.6/dist-packages (from pandas>=0.17.0->pyLDAvis) (2.8.1)\n",
            "Requirement already satisfied: pytz>=2017.2 in /usr/local/lib/python3.6/dist-packages (from pandas>=0.17.0->pyLDAvis) (2018.9)\n",
            "Requirement already satisfied: MarkupSafe>=0.23 in /usr/local/lib/python3.6/dist-packages (from jinja2>=2.7.2->pyLDAvis) (1.1.1)\n",
            "Requirement already satisfied: setuptools in /usr/local/lib/python3.6/dist-packages (from pytest->pyLDAvis) (49.2.0)\n",
            "Requirement already satisfied: more-itertools>=4.0.0 in /usr/local/lib/python3.6/dist-packages (from pytest->pyLDAvis) (8.4.0)\n",
            "Requirement already satisfied: six>=1.10.0 in /usr/local/lib/python3.6/dist-packages (from pytest->pyLDAvis) (1.15.0)\n",
            "Requirement already satisfied: attrs>=17.4.0 in /usr/local/lib/python3.6/dist-packages (from pytest->pyLDAvis) (19.3.0)\n",
            "Requirement already satisfied: py>=1.5.0 in /usr/local/lib/python3.6/dist-packages (from pytest->pyLDAvis) (1.9.0)\n",
            "Requirement already satisfied: pluggy<0.8,>=0.5 in /usr/local/lib/python3.6/dist-packages (from pytest->pyLDAvis) (0.7.1)\n",
            "Requirement already satisfied: atomicwrites>=1.0 in /usr/local/lib/python3.6/dist-packages (from pytest->pyLDAvis) (1.4.0)\n",
            "Building wheels for collected packages: pyLDAvis, funcy\n",
            "  Building wheel for pyLDAvis (setup.py) ... \u001b[?25l\u001b[?25hdone\n",
            "  Created wheel for pyLDAvis: filename=pyLDAvis-2.1.2-py2.py3-none-any.whl size=97711 sha256=f98750bd9cb522ccd7dc6528fdc3bcdeca28774dd42eb6828bcf9bc798e5d4ed\n",
            "  Stored in directory: /root/.cache/pip/wheels/98/71/24/513a99e58bb6b8465bae4d2d5e9dba8f0bef8179e3051ac414\n",
            "  Building wheel for funcy (setup.py) ... \u001b[?25l\u001b[?25hdone\n",
            "  Created wheel for funcy: filename=funcy-1.14-py2.py3-none-any.whl size=32042 sha256=b5544607d8b1a67ac30e365196153cf7d394fdf473e8c57e1b5affec79070ea1\n",
            "  Stored in directory: /root/.cache/pip/wheels/20/5a/d8/1d875df03deae6f178dfdf70238cca33f948ef8a6f5209f2eb\n",
            "Successfully built pyLDAvis funcy\n",
            "Installing collected packages: funcy, pyLDAvis\n",
            "Successfully installed funcy-1.14 pyLDAvis-2.1.2\n"
          ],
          "name": "stdout"
        }
      ]
    },
    {
      "cell_type": "code",
      "metadata": {
        "id": "7U5uXV6FUNoS",
        "colab_type": "code",
        "colab": {
          "base_uri": "https://localhost:8080/",
          "height": 121
        },
        "outputId": "e8d0372c-c33d-4528-a81a-2be3dcb49eb8"
      },
      "source": [
        "from sklearn.feature_extraction.text import CountVectorizer\n",
        "from sklearn.metrics.pairwise import cosine_similarity\n",
        "from nltk.stem import WordNetLemmatizer,PorterStemmer\n",
        "from nltk.tokenize import word_tokenize\n",
        "from sklearn.cluster import DBSCAN\n",
        "from nltk.corpus import stopwords\n",
        "from spacy.matcher import Matcher \n",
        "from collections import  Counter\n",
        "import matplotlib.pyplot as plt\n",
        "from spacy.tokens import Span \n",
        "import tensorflow_hub as hub\n",
        "from rake_nltk import Rake\n",
        "import tensorflow as tf\n",
        "import pyLDAvis.gensim\n",
        "from tqdm import tqdm\n",
        "import seaborn as sns\n",
        "import networkx as nx\n",
        "import pandas as pd\n",
        "import numpy as np\n",
        "import pyLDAvis\n",
        "import gensim\n",
        "import spacy\n",
        "import os\n",
        "import gc"
      ],
      "execution_count": 4,
      "outputs": [
        {
          "output_type": "stream",
          "text": [
            "/usr/local/lib/python3.6/dist-packages/statsmodels/tools/_testing.py:19: FutureWarning: pandas.util.testing is deprecated. Use the functions in the public API at pandas.testing instead.\n",
            "  import pandas.util.testing as tm\n",
            "/usr/local/lib/python3.6/dist-packages/scipy/sparse/sparsetools.py:21: DeprecationWarning: `scipy.sparse.sparsetools` is deprecated!\n",
            "scipy.sparse.sparsetools is a private module for scipy.sparse, and should not be used.\n",
            "  _deprecated()\n"
          ],
          "name": "stderr"
        }
      ]
    },
    {
      "cell_type": "code",
      "metadata": {
        "id": "CSvJS6VjUNlb",
        "colab_type": "code",
        "colab": {}
      },
      "source": [
        ""
      ],
      "execution_count": null,
      "outputs": []
    },
    {
      "cell_type": "code",
      "metadata": {
        "id": "_kKomrT1K6iE",
        "colab_type": "code",
        "colab": {}
      },
      "source": [
        "from google.colab import drive\n",
        "#drive.mount('/content/drive')"
      ],
      "execution_count": 6,
      "outputs": []
    },
    {
      "cell_type": "code",
      "metadata": {
        "id": "y2aCwdmoJwtt",
        "colab_type": "code",
        "colab": {
          "base_uri": "https://localhost:8080/",
          "height": 212
        },
        "outputId": "863284b6-82ef-4a7c-df5b-6e05d10d0d4f"
      },
      "source": [
        " #import data\n",
        "df = pd.read_csv('/content/drive/My Drive/edited_topics_set2.csv')\n",
        "# shape\n",
        "print('No. of rows and columns :', df.shape)\n",
        "# show first few rows\n",
        "df.head()"
      ],
      "execution_count": 7,
      "outputs": [
        {
          "output_type": "stream",
          "text": [
            "No. of rows and columns : (2155, 7)\n"
          ],
          "name": "stdout"
        },
        {
          "output_type": "execute_result",
          "data": {
            "text/html": [
              "<div>\n",
              "<style scoped>\n",
              "    .dataframe tbody tr th:only-of-type {\n",
              "        vertical-align: middle;\n",
              "    }\n",
              "\n",
              "    .dataframe tbody tr th {\n",
              "        vertical-align: top;\n",
              "    }\n",
              "\n",
              "    .dataframe thead th {\n",
              "        text-align: right;\n",
              "    }\n",
              "</style>\n",
              "<table border=\"1\" class=\"dataframe\">\n",
              "  <thead>\n",
              "    <tr style=\"text-align: right;\">\n",
              "      <th></th>\n",
              "      <th>Unnamed: 0</th>\n",
              "      <th>Unnamed: 0.1</th>\n",
              "      <th>_id</th>\n",
              "      <th>topic</th>\n",
              "      <th>content</th>\n",
              "      <th>processed_content</th>\n",
              "      <th>processed_topic</th>\n",
              "    </tr>\n",
              "  </thead>\n",
              "  <tbody>\n",
              "    <tr>\n",
              "      <th>0</th>\n",
              "      <td>0</td>\n",
              "      <td>0</td>\n",
              "      <td>5f04e496ef217aae6a201f71</td>\n",
              "      <td>[\"National\"]</td>\n",
              "      <td>[\"The West Bengal government on Tuesday decide...</td>\n",
              "      <td>west bengal govern tuesday decid impos complet...</td>\n",
              "      <td>nation</td>\n",
              "    </tr>\n",
              "    <tr>\n",
              "      <th>1</th>\n",
              "      <td>1</td>\n",
              "      <td>1</td>\n",
              "      <td>5f04e498ef217aae6a201f72</td>\n",
              "      <td>[\"Business\"]</td>\n",
              "      <td>[\"The government is weighing the pros and cons...</td>\n",
              "      <td>govern weigh pros con halt import includ china...</td>\n",
              "      <td>busi</td>\n",
              "    </tr>\n",
              "    <tr>\n",
              "      <th>2</th>\n",
              "      <td>2</td>\n",
              "      <td>2</td>\n",
              "      <td>5f04e49aef217aae6a201f73</td>\n",
              "      <td>[\"National\"]</td>\n",
              "      <td>[\"The Central Board of Secondary Education (CB...</td>\n",
              "      <td>central board secondari educ cbse slash syllab...</td>\n",
              "      <td>nation</td>\n",
              "    </tr>\n",
              "    <tr>\n",
              "      <th>3</th>\n",
              "      <td>3</td>\n",
              "      <td>3</td>\n",
              "      <td>5f04e49def217aae6a201f74</td>\n",
              "      <td>[\"International\"]</td>\n",
              "      <td>[\"The World Health Organization on Tuesday ack...</td>\n",
              "      <td>world health organ tuesday acknowledg emerg ev...</td>\n",
              "      <td>intern</td>\n",
              "    </tr>\n",
              "    <tr>\n",
              "      <th>4</th>\n",
              "      <td>4</td>\n",
              "      <td>4</td>\n",
              "      <td>5f04e49fef217aae6a201f75</td>\n",
              "      <td>[\"International\"]</td>\n",
              "      <td>[\"President Donald Trump on Tuesday formally s...</td>\n",
              "      <td>presid donald trump tuesday formal start withd...</td>\n",
              "      <td>intern</td>\n",
              "    </tr>\n",
              "  </tbody>\n",
              "</table>\n",
              "</div>"
            ],
            "text/plain": [
              "   Unnamed: 0  ...  processed_topic\n",
              "0           0  ...           nation\n",
              "1           1  ...             busi\n",
              "2           2  ...           nation\n",
              "3           3  ...           intern\n",
              "4           4  ...           intern\n",
              "\n",
              "[5 rows x 7 columns]"
            ]
          },
          "metadata": {
            "tags": []
          },
          "execution_count": 7
        }
      ]
    },
    {
      "cell_type": "code",
      "metadata": {
        "id": "gk40q6cJUNif",
        "colab_type": "code",
        "colab": {
          "base_uri": "https://localhost:8080/",
          "height": 280
        },
        "outputId": "28e05bd4-8d20-4a21-c786-989faf17069c"
      },
      "source": [
        "#Distribution of title length\n",
        "headline_length=df['processed_content'].str.len()\n",
        "sns.distplot(headline_length)\n",
        "plt.show()"
      ],
      "execution_count": 8,
      "outputs": [
        {
          "output_type": "display_data",
          "data": {
            "image/png": "[encoded data removed]",
            "text/plain": [
              "<Figure size 432x288 with 1 Axes>"
            ]
          },
          "metadata": {
            "tags": [],
            "needs_background": "light"
          }
        }
      ]
    },
    {
      "cell_type": "code",
      "metadata": {
        "id": "KbRDqTUSUNg6",
        "colab_type": "code",
        "colab": {}
      },
      "source": [
        "# #Distribution of abstract length\n",
        "# headline_length=all_sources['abstract'].str.len()\n",
        "# plt.hist(headline_length)\n",
        "# plt.show()"
      ],
      "execution_count": null,
      "outputs": []
    },
    {
      "cell_type": "code",
      "metadata": {
        "id": "eJ-n4Cw6UNd3",
        "colab_type": "code",
        "colab": {}
      },
      "source": [
        "# stop=set(stopwords.words('english'))\n",
        "\n",
        "# def build_list(df,col=\"processed_content\"):\n",
        "#     corpus=[]\n",
        "#     lem=WordNetLemmatizer()\n",
        "#     stop=set(stopwords.words('english'))\n",
        "#     new= df[col].dropna().str.split()\n",
        "#     new=new.values.tolist()\n",
        "#     corpus=[lem.lemmatize(word.lower()) for i in new for word in i if(word) not in stop]\n",
        "    \n",
        "#     return corpus"
      ],
      "execution_count": null,
      "outputs": []
    },
    {
      "cell_type": "code",
      "metadata": {
        "id": "l4ri711uUNcG",
        "colab_type": "code",
        "colab": {}
      },
      "source": [
        "# #Which are most common words in title?\n",
        "# plt.figure(figsize=(9,7))\n",
        "# sns.barplot(x=y,y=x)"
      ],
      "execution_count": 10,
      "outputs": []
    },
    {
      "cell_type": "code",
      "metadata": {
        "id": "mLtJMHJrZzSQ",
        "colab_type": "code",
        "colab": {}
      },
      "source": [
        "#Which are the most common words in abstracts ?\n"
      ],
      "execution_count": null,
      "outputs": []
    },
    {
      "cell_type": "code",
      "metadata": {
        "id": "K4gSCbOeZzX5",
        "colab_type": "code",
        "colab": {}
      },
      "source": [
        "#Which are the most common bi-grams in title?\n",
        "top_n_bigrams=get_top_ngram(all_sources['processed_content'].dropna(),2)[:10]\n",
        "x,y=map(list,zip(top_n_bigrams))\n",
        "plt.figure(figsize=(9,7))\n",
        "sns.barplot(x=y,y=x)"
      ],
      "execution_count": null,
      "outputs": []
    },
    {
      "cell_type": "code",
      "metadata": {
        "id": "C8C090Q7ZzVB",
        "colab_type": "code",
        "colab": {}
      },
      "source": [
        "#Which are the most common tri-grams in title?\n",
        "top_tri_grams=get_top_ngram(all_sources['title'].dropna(),n=3)\n",
        "x,y=map(list,zip(*top_tri_grams))\n",
        "plt.figure(figsize=(9,7))\n",
        "sns.barplot(x=y,y=x)"
      ],
      "execution_count": null,
      "outputs": []
    },
    {
      "cell_type": "code",
      "metadata": {
        "id": "RzefHMprZzQd",
        "colab_type": "code",
        "colab": {}
      },
      "source": [
        "# topic modelling\n",
        "\n",
        "lda_model.show_topics()"
      ],
      "execution_count": null,
      "outputs": []
    },
    {
      "cell_type": "code",
      "metadata": {
        "id": "19LFbKQOaClT",
        "colab_type": "code",
        "colab": {}
      },
      "source": [
        "# viualise the topic models"
      ],
      "execution_count": null,
      "outputs": []
    },
    {
      "cell_type": "markdown",
      "metadata": {
        "id": "J13C9o9tiRHh",
        "colab_type": "text"
      },
      "source": [
        "\n",
        "#Method 1: Using Universal sentence Encoder"
      ]
    },
    {
      "cell_type": "code",
      "metadata": {
        "id": "WQJ-SXeAaCpB",
        "colab_type": "code",
        "colab": {}
      },
      "source": [
        "#Find Similar Papers\n",
        "\n",
        "#Done using Universal Sentence encoder and consine similarity.\n",
        "def prepare_similarity(vectors):\n",
        "    similarity=cosine_similarity(vectors)\n",
        "    return similarity\n",
        "\n",
        "def get_top_similar(sentence, sentence_list, similarity_matrix, topN):\n",
        "    # find the index of sentence in list\n",
        "    index = sentence_list.index(sentence)\n",
        "    # get the corresponding row in similarity matrix\n",
        "    similarity_row = np.array(similarity_matrix[index, :])\n",
        "    # get the indices of top similar\n",
        "    indices = similarity_row.argsort()[-topN:][::-1]\n",
        "    return [(i,sentence_list[i]) for i in indices]\n",
        "module_url = \"../input/universalsentenceencoderlarge4\" \n",
        "# Import the Universal Sentence Encoder's TF Hub module\n",
        "embed = hub.load(module_url)\n",
        "titles=all_sources['title'].fillna(\"Unknown\")\n",
        "embed_vectors=embed(titles[:100].values)['outputs'].numpy()\n",
        "sentence_list=titles.values.tolist()\n",
        "sentence=titles.iloc[5]\n",
        "print(\"Find similar research papers for :\")\n",
        "print(sentence)\n",
        "\n",
        "similarity_matrix=prepare_similarity(embed_vectors)\n",
        "similar=get_top_similar(sentence,sentence_list,similarity_matrix,6)"
      ],
      "execution_count": null,
      "outputs": []
    },
    {
      "cell_type": "code",
      "metadata": {
        "id": "LEvjGYTOahXj",
        "colab_type": "code",
        "colab": {}
      },
      "source": [
        "for sentence in similar:\n",
        "    print(sentence)\n",
        "    print(\"\\n\")"
      ],
      "execution_count": null,
      "outputs": []
    },
    {
      "cell_type": "code",
      "metadata": {
        "id": "Ynghhwc3ahbI",
        "colab_type": "code",
        "colab": {}
      },
      "source": [
        ""
      ],
      "execution_count": null,
      "outputs": []
    },
    {
      "cell_type": "markdown",
      "metadata": {
        "id": "vhSS9LyAiTub",
        "colab_type": "text"
      },
      "source": [
        "#Method 2 : Cluster articles using DBSCAN"
      ]
    },
    {
      "cell_type": "code",
      "metadata": {
        "id": "6ezNClZDahWH",
        "colab_type": "code",
        "colab": {
          "base_uri": "https://localhost:8080/",
          "height": 34
        },
        "outputId": "976704e9-2a4a-41d6-abb5-840bea74992a"
      },
      "source": [
        "\n",
        "nlp=spacy.load('en_core_web_sm')\n",
        "sent_vecs={}\n",
        "docs=[]\n",
        "\n",
        "for i in tqdm(df['processed_content'].fillna('unknown')[:1000]):\n",
        "    doc=nlp((i)) \n",
        "    docs.append(doc)\n",
        "    sent_vecs.update({i :doc.vector})"
      ],
      "execution_count": 13,
      "outputs": [
        {
          "output_type": "stream",
          "text": [
            "100%|██████████| 1000/1000 [01:42<00:00,  9.80it/s]\n"
          ],
          "name": "stderr"
        }
      ]
    },
    {
      "cell_type": "code",
      "metadata": {
        "id": "Utpa0zTPaCjy",
        "colab_type": "code",
        "colab": {
          "base_uri": "https://localhost:8080/",
          "height": 34
        },
        "outputId": "dcb1522d-4edd-4d4e-977c-dd21d391e9a5"
      },
      "source": [
        "sentences=list(sent_vecs.keys())\n",
        "vectors=list(sent_vecs.values())\n",
        "x=np.array(vectors)\n",
        "dbscan=DBSCAN(eps=0.08, min_samples=2,metric='cosine' ).fit(x)\n",
        "df_cluster=pd.DataFrame({'sentences':sentences,'label':dbscan.labels_})\n",
        "df_cluster.label.unique()"
      ],
      "execution_count": 14,
      "outputs": [
        {
          "output_type": "execute_result",
          "data": {
            "text/plain": [
              "array([ 0, -1])"
            ]
          },
          "metadata": {
            "tags": []
          },
          "execution_count": 14
        }
      ]
    },
    {
      "cell_type": "code",
      "metadata": {
        "id": "ogkmK2B0bBa4",
        "colab_type": "code",
        "colab": {
          "base_uri": "https://localhost:8080/",
          "height": 34
        },
        "outputId": "395e03ac-ebae-4f69-9356-fe96415350f7"
      },
      "source": [
        "#Some example clusters :\n",
        "df_cluster[(df_cluster['label']==0)].shape"
      ],
      "execution_count": 17,
      "outputs": [
        {
          "output_type": "execute_result",
          "data": {
            "text/plain": [
              "(859, 2)"
            ]
          },
          "metadata": {
            "tags": []
          },
          "execution_count": 17
        }
      ]
    },
    {
      "cell_type": "code",
      "metadata": {
        "id": "YB_7wP7QbBgl",
        "colab_type": "code",
        "colab": {
          "base_uri": "https://localhost:8080/",
          "height": 34
        },
        "outputId": "ad564dd5-01df-4be5-8e7b-3626b0d4c81c"
      },
      "source": [
        "df_cluster[(df_cluster['label']==-1)].shape"
      ],
      "execution_count": 18,
      "outputs": [
        {
          "output_type": "execute_result",
          "data": {
            "text/plain": [
              "(1, 2)"
            ]
          },
          "metadata": {
            "tags": []
          },
          "execution_count": 18
        }
      ]
    },
    {
      "cell_type": "markdown",
      "metadata": {
        "id": "xgRJ2NVed8Mo",
        "colab_type": "text"
      },
      "source": [
        "Mining related articles\n",
        "\n",
        "First append articles from all the sources\n",
        "\n",
        "Choose a subtask from above task\n",
        "\n",
        "Find related articles\n",
        "\n",
        "Form a list of abstrat from these articles\n",
        "\n",
        "Then do keyword extraction to get important keyowords from these research papers."
      ]
    },
    {
      "cell_type": "code",
      "metadata": {
        "id": "1wpHH7_qbBdv",
        "colab_type": "code",
        "colab": {}
      },
      "source": [
        "# path=\"../input/cord-19-eda-parse-json-and-generate-clean-csv/\"\n",
        "# clean_comm=pd.read_csv(path+\"clean_comm_use.csv\",nrows=5000)\n",
        "# clean_comm['source']='clean_comm'\n",
        "# #clean_pmc=pd.read_csv(path+\"clean_pmc.csv\")\n",
        "# #clean_pmc['source']='clean_pmc'\n",
        "# biox = pd.read_csv(path+\"biorxiv_clean.csv\")\n",
        "# biox['source']='biorx'\n",
        "\n",
        "all_articles= pd.read_csv('/content/drive/My Drive/edited_all_news_set2.csv')\n",
        "all_articles = all_articles.processed_content\n",
        "# del biox,clean_comm\n",
        "# gc.collect()"
      ],
      "execution_count": 22,
      "outputs": []
    },
    {
      "cell_type": "code",
      "metadata": {
        "id": "x7azNrlpbBZG",
        "colab_type": "code",
        "colab": {
          "base_uri": "https://localhost:8080/",
          "height": 34
        },
        "outputId": "225149bf-691b-4709-c7a9-242a39a04dfc"
      },
      "source": [
        "all_articles.shape"
      ],
      "execution_count": 23,
      "outputs": [
        {
          "output_type": "execute_result",
          "data": {
            "text/plain": [
              "(3092,)"
            ]
          },
          "metadata": {
            "tags": []
          },
          "execution_count": 23
        }
      ]
    },
    {
      "cell_type": "code",
      "metadata": {
        "id": "gII-FI_0eR2H",
        "colab_type": "code",
        "colab": {}
      },
      "source": [
        "#Define the tasks\n",
        "tasks=[\"What is known about transmission, incubation, and environmental stability\",\n",
        "      \"What do we know about COVID-19 risk factors\",\n",
        "      \"What do we know about virus genetics, origin, and evolution\",\n",
        "      \"What do we know about vaccines and therapeutics\",\n",
        "      \"What do we know about non-pharmaceutical interventions\",\n",
        "      \"What do we know about diagnostics and surveillance\",\n",
        "      \"What has been published about ethical and social science considerations\",\n",
        "      \"Role of the environment in transmission\",\n",
        "      \"Range of incubation periods for the disease in humans\",\n",
        "      \"Prevalence of asymptomatic shedding and transmission\",\n",
        "      \"Seasonality of transmission\",\n",
        "      \"Persistence of virus on surfaces of different materials (e,g., copper, stainless steel, plastic)\",\n",
        "      \"Susceptibility of populations\",\n",
        "      \"Public health mitigation measures that could be effective for control\",\n",
        "      \"Transmission dynamics of the virus\",\n",
        "      \"Evidence that livestock could be infected\",\n",
        "      \"Socioeconomic and behavioral risk factors for this spill-over\",\n",
        "      \"Sustainable risk reduction strategies\",\n",
        "      \"Resources to support skilled nursing facilities and long term care facilities\",\n",
        "      \"Mobilization of surge medical staff to address shortages in overw\"]"
      ],
      "execution_count": 19,
      "outputs": []
    },
    {
      "cell_type": "code",
      "metadata": {
        "id": "C57e-bLyeR9I",
        "colab_type": "code",
        "colab": {
          "base_uri": "https://localhost:8080/",
          "height": 195
        },
        "outputId": "c696af40-645f-4e5d-9a7a-1c20529b8290"
      },
      "source": [
        "task_df=pd.DataFrame({'title':tasks,'source':'task'})\n",
        "task_df.head()"
      ],
      "execution_count": 20,
      "outputs": [
        {
          "output_type": "execute_result",
          "data": {
            "text/html": [
              "<div>\n",
              "<style scoped>\n",
              "    .dataframe tbody tr th:only-of-type {\n",
              "        vertical-align: middle;\n",
              "    }\n",
              "\n",
              "    .dataframe tbody tr th {\n",
              "        vertical-align: top;\n",
              "    }\n",
              "\n",
              "    .dataframe thead th {\n",
              "        text-align: right;\n",
              "    }\n",
              "</style>\n",
              "<table border=\"1\" class=\"dataframe\">\n",
              "  <thead>\n",
              "    <tr style=\"text-align: right;\">\n",
              "      <th></th>\n",
              "      <th>title</th>\n",
              "      <th>source</th>\n",
              "    </tr>\n",
              "  </thead>\n",
              "  <tbody>\n",
              "    <tr>\n",
              "      <th>0</th>\n",
              "      <td>What is known about transmission, incubation, ...</td>\n",
              "      <td>task</td>\n",
              "    </tr>\n",
              "    <tr>\n",
              "      <th>1</th>\n",
              "      <td>What do we know about COVID-19 risk factors</td>\n",
              "      <td>task</td>\n",
              "    </tr>\n",
              "    <tr>\n",
              "      <th>2</th>\n",
              "      <td>What do we know about virus genetics, origin, ...</td>\n",
              "      <td>task</td>\n",
              "    </tr>\n",
              "    <tr>\n",
              "      <th>3</th>\n",
              "      <td>What do we know about vaccines and therapeutics</td>\n",
              "      <td>task</td>\n",
              "    </tr>\n",
              "    <tr>\n",
              "      <th>4</th>\n",
              "      <td>What do we know about non-pharmaceutical inter...</td>\n",
              "      <td>task</td>\n",
              "    </tr>\n",
              "  </tbody>\n",
              "</table>\n",
              "</div>"
            ],
            "text/plain": [
              "                                               title source\n",
              "0  What is known about transmission, incubation, ...   task\n",
              "1        What do we know about COVID-19 risk factors   task\n",
              "2  What do we know about virus genetics, origin, ...   task\n",
              "3    What do we know about vaccines and therapeutics   task\n",
              "4  What do we know about non-pharmaceutical inter...   task"
            ]
          },
          "metadata": {
            "tags": []
          },
          "execution_count": 20
        }
      ]
    },
    {
      "cell_type": "code",
      "metadata": {
        "id": "cGxOEKMseR6t",
        "colab_type": "code",
        "colab": {}
      },
      "source": [
        "all_articles=pd.concat([all_articles,task_df])\n",
        "all_articles.fillna(\"Unknown\",inplace=True)"
      ],
      "execution_count": 24,
      "outputs": []
    },
    {
      "cell_type": "code",
      "metadata": {
        "id": "l5J6KGo4eR40",
        "colab_type": "code",
        "colab": {}
      },
      "source": [
        "# #Find related research papers using USE method.\n",
        "# sentence_list=all_articles.title.values.tolist()\n",
        "# embed_vectors=embed(sentence_list)['outputs'].numpy()\n",
        "# similarity_matrix=prepare_similarity(embed_vectors)\n",
        "# sentence= \"Role of the environment in transmission\"\n",
        "\n",
        "# similar=get_top_similar(sentence,sentence_list,similarity_matrix,10)\n",
        "# for sent in similar:\n",
        "#     print(sent[1])"
      ],
      "execution_count": 26,
      "outputs": []
    },
    {
      "cell_type": "code",
      "metadata": {
        "id": "Yblh81o6eR0U",
        "colab_type": "code",
        "colab": {}
      },
      "source": [
        "#Clean and store abstracts from related articles.\n",
        "ind,title=list(map(list,zip(*similar)))\n",
        "titles=[]\n",
        "texts=[]\n",
        "for i in ind:\n",
        "    titles.append(all_articles.iloc[i]['title'])\n",
        "    texts.append(all_articles.iloc[i]['abstract'])"
      ],
      "execution_count": null,
      "outputs": []
    },
    {
      "cell_type": "code",
      "metadata": {
        "id": "xp2Bb_TFoUau",
        "colab_type": "code",
        "colab": {}
      },
      "source": [
        "texts = "
      ],
      "execution_count": null,
      "outputs": []
    },
    {
      "cell_type": "code",
      "metadata": {
        "id": "Ex8yxlVEetr6",
        "colab_type": "code",
        "colab": {
          "base_uri": "https://localhost:8080/",
          "height": 229
        },
        "outputId": "c02f4d4d-22b5-42d6-c2e8-e5f17b8b9f87"
      },
      "source": [
        "import re\n",
        "def clean(txt):\n",
        "    txt=re.sub(r'\\n','',txt)\n",
        "    txt=re.sub(r'\\([^()]*\\)','',txt)\n",
        "    txt=re.sub(r'https?:\\S+\\sdoi','',txt)\n",
        "    return txt\n",
        "texts=list(map(clean,texts))\n",
        "text_list=' '.join(texts)\n",
        "#text_list=word_tokenize(text_list)"
      ],
      "execution_count": 27,
      "outputs": [
        {
          "output_type": "error",
          "ename": "NameError",
          "evalue": "ignored",
          "traceback": [
            "\u001b[0;31m---------------------------------------------------------------------------\u001b[0m",
            "\u001b[0;31mNameError\u001b[0m                                 Traceback (most recent call last)",
            "\u001b[0;32m<ipython-input-27-3aaae82e50bc>\u001b[0m in \u001b[0;36m<module>\u001b[0;34m()\u001b[0m\n\u001b[1;32m      5\u001b[0m     \u001b[0mtxt\u001b[0m\u001b[0;34m=\u001b[0m\u001b[0mre\u001b[0m\u001b[0;34m.\u001b[0m\u001b[0msub\u001b[0m\u001b[0;34m(\u001b[0m\u001b[0;34mr'https?:\\S+\\sdoi'\u001b[0m\u001b[0;34m,\u001b[0m\u001b[0;34m''\u001b[0m\u001b[0;34m,\u001b[0m\u001b[0mtxt\u001b[0m\u001b[0;34m)\u001b[0m\u001b[0;34m\u001b[0m\u001b[0;34m\u001b[0m\u001b[0m\n\u001b[1;32m      6\u001b[0m     \u001b[0;32mreturn\u001b[0m \u001b[0mtxt\u001b[0m\u001b[0;34m\u001b[0m\u001b[0;34m\u001b[0m\u001b[0m\n\u001b[0;32m----> 7\u001b[0;31m \u001b[0mtexts\u001b[0m\u001b[0;34m=\u001b[0m\u001b[0mlist\u001b[0m\u001b[0;34m(\u001b[0m\u001b[0mmap\u001b[0m\u001b[0;34m(\u001b[0m\u001b[0mclean\u001b[0m\u001b[0;34m,\u001b[0m\u001b[0mtexts\u001b[0m\u001b[0;34m)\u001b[0m\u001b[0;34m)\u001b[0m\u001b[0;34m\u001b[0m\u001b[0;34m\u001b[0m\u001b[0m\n\u001b[0m\u001b[1;32m      8\u001b[0m \u001b[0mtext_list\u001b[0m\u001b[0;34m=\u001b[0m\u001b[0;34m' '\u001b[0m\u001b[0;34m.\u001b[0m\u001b[0mjoin\u001b[0m\u001b[0;34m(\u001b[0m\u001b[0mtexts\u001b[0m\u001b[0;34m)\u001b[0m\u001b[0;34m\u001b[0m\u001b[0;34m\u001b[0m\u001b[0m\n\u001b[1;32m      9\u001b[0m \u001b[0;31m#text_list=word_tokenize(text_list)\u001b[0m\u001b[0;34m\u001b[0m\u001b[0;34m\u001b[0m\u001b[0;34m\u001b[0m\u001b[0m\n",
            "\u001b[0;31mNameError\u001b[0m: name 'texts' is not defined"
          ]
        }
      ]
    },
    {
      "cell_type": "markdown",
      "metadata": {
        "id": "UuTtzVC5e1SX",
        "colab_type": "text"
      },
      "source": [
        "Keyword Extraction"
      ]
    },
    {
      "cell_type": "code",
      "metadata": {
        "id": "sYy_oYMjetzC",
        "colab_type": "code",
        "colab": {}
      },
      "source": [
        "#Method 1:Rake\n",
        "# Reka\n",
        "import RAKE\n",
        "import operator\n",
        "\n",
        "# Reka setup with stopword directory\n",
        "stop_dir = \"../input/stopwordsforrake/SmartStoplist.txt\"\n",
        "rake_object = RAKE.Rake(stop_dir)\n",
        "\n",
        "# Sample text to test RAKE\n",
        "\n",
        "\n",
        "# Extract keywords\n",
        "keywords = rake_object.run(text_list)\n",
        "words,score=list(map(list,zip(*keywords)))\n",
        "for word in (words[:10]):\n",
        "    print(word)"
      ],
      "execution_count": null,
      "outputs": []
    },
    {
      "cell_type": "code",
      "metadata": {
        "id": "XWfapr7Aet2A",
        "colab_type": "code",
        "colab": {}
      },
      "source": [
        "\n",
        "Method 2: PytextRank\n",
        "nlp = spacy.load(\"en_core_web_sm\")\n",
        "\n",
        "logging.basicConfig(stream=sys.stdout, level=logging.DEBUG)\n",
        "logger = logging.getLogger(\"PyTR\")\n",
        "\n",
        "# add PyTextRank into the spaCy pipeline\n",
        "\n",
        "tr = pytextrank.TextRank(logger=None)\n",
        "nlp.add_pipe(tr.PipelineComponent, name=\"textrank\", last=True)\n",
        "\n",
        "# parse the document\n",
        "\n",
        "doc = nlp(text_list)\n",
        "\n",
        "print(\"pipeline\", nlp.pipe_names)\n",
        "print(\"elapsed time: {} ms\".format(tr.elapsed_time))\n",
        "\n",
        "\n",
        "# examine the top-ranked phrases in the document"
      ],
      "execution_count": null,
      "outputs": []
    },
    {
      "cell_type": "code",
      "metadata": {
        "id": "-9VW0ljTetwj",
        "colab_type": "code",
        "colab": {}
      },
      "source": [
        "for phrase in doc._.phrases[:10]:\n",
        "    print(\"{}\".format(phrase.text))\n",
        "    #print(phrase.chunks)"
      ],
      "execution_count": null,
      "outputs": []
    },
    {
      "cell_type": "code",
      "metadata": {
        "id": "xzOrkX8xetvM",
        "colab_type": "code",
        "colab": {}
      },
      "source": [
        "#Knowledge Graph\n",
        "#Next,we will try and draw a knowledge graph from the related papers we found.\n",
        "import spacy\n",
        "nlp=spacy.load('en_core_web_sm')"
      ],
      "execution_count": null,
      "outputs": []
    },
    {
      "cell_type": "code",
      "metadata": {
        "id": "1bst8IHqetqV",
        "colab_type": "code",
        "colab": {}
      },
      "source": [
        "#Question : What is the Role of the environment in transmission?"
      ],
      "execution_count": null,
      "outputs": []
    },
    {
      "cell_type": "code",
      "metadata": {
        "id": "W99ihFHsfQ-e",
        "colab_type": "code",
        "colab": {}
      },
      "source": [
        "#We will prepare a dataframe that contains,subject,relation and object from these abstracts to plot the knowledge graph.\n",
        "def prepare_df(text_list):\n",
        "    doc=nlp(text_list)\n",
        "    df=pd.DataFrame()\n",
        "    for sent in list(doc.sents):\n",
        "        sub,obj = get_entities(str(sent))\n",
        "        relation= get_relation(str(sent))\n",
        "\n",
        "        if ((len(relation)>2) & (len(sub)>2) &(len(obj)>2)):\n",
        "            df=df.append({'subject':sub,'relation':relation,'object':obj},ignore_index=True)\n",
        "\n",
        "    return df\n",
        "df = prepare_df(text_list[24:])\n",
        "df.head()"
      ],
      "execution_count": null,
      "outputs": []
    },
    {
      "cell_type": "code",
      "metadata": {
        "id": "BpZm8X5dfRDn",
        "colab_type": "code",
        "colab": {}
      },
      "source": [
        "def draw_kg(pairs,c1='red',c2='blue',c3='orange'):\n",
        "    k_graph = nx.from_pandas_edgelist(pairs, 'subject', 'object',\n",
        "            create_using=nx.MultiDiGraph())\n",
        "  \n",
        "    node_deg = nx.degree(k_graph)\n",
        "    layout = nx.spring_layout(k_graph, k=0.15, iterations=20)\n",
        "    plt.figure(num=None, figsize=(50, 40), dpi=80)\n",
        "    nx.draw_networkx(\n",
        "        k_graph,\n",
        "        node_size=[int(deg[1]) * 500 for deg in node_deg],\n",
        "        arrowsize=20,\n",
        "        linewidths=1.5,\n",
        "        pos=layout,\n",
        "        edge_color=c1,\n",
        "        edgecolors=c2,\n",
        "        node_color=c3,\n",
        "        )\n",
        "    labels = dict(zip(list(zip(pairs.subject, pairs.object)),\n",
        "                  pairs['relation'].tolist()))\n",
        "    nx.draw_networkx_edge_labels(k_graph, pos=layout, edge_labels=labels,\n",
        "                                 font_color='red')\n",
        "    plt.axis('off')\n",
        "    plt.show()\n",
        "draw_kg(df)"
      ],
      "execution_count": null,
      "outputs": []
    },
    {
      "cell_type": "code",
      "metadata": {
        "id": "ofX5-XGTfRHM",
        "colab_type": "code",
        "colab": {}
      },
      "source": [
        "#What is known about transmission, incubation, and environmental stability? \n",
        "#Get similar articles.\n",
        "sentence= \"What is known about transmission, incubation, and environmental stability\"\n",
        "similar=get_top_similar(sentence,sentence_list,similarity_matrix,15)"
      ],
      "execution_count": null,
      "outputs": []
    },
    {
      "cell_type": "code",
      "metadata": {
        "id": "xtCv8Qv0fRB0",
        "colab_type": "code",
        "colab": {}
      },
      "source": [
        "#Prepare the abstract and title\n",
        "ind,title=list(map(list,zip(*similar)))\n",
        "titles=[]\n",
        "texts=[]\n",
        "for i in ind:\n",
        "    titles.append(all_articles.iloc[i]['title'])\n",
        "    texts.append(all_articles.iloc[i]['abstract'])\n",
        "texts=list(map(clean,texts))\n",
        "text_list=' '.join(texts)"
      ],
      "execution_count": null,
      "outputs": []
    },
    {
      "cell_type": "code",
      "metadata": {
        "id": "dliedNW9fQ85",
        "colab_type": "code",
        "colab": {}
      },
      "source": [
        "#Find the subject,object and relations and plot the KG.\n",
        "df = prepare_df(text_list)\n",
        "draw_kg(df)"
      ],
      "execution_count": null,
      "outputs": []
    },
    {
      "cell_type": "code",
      "metadata": {
        "id": "-6ng6AkEfsND",
        "colab_type": "code",
        "colab": {}
      },
      "source": [
        "#What do we know about COVID-19 risk factors?\n",
        "df = prepare_df(text_list)\n",
        "draw_kg(df,c1='blue',c2='pink',c3='green')"
      ],
      "execution_count": null,
      "outputs": []
    },
    {
      "cell_type": "code",
      "metadata": {
        "id": "7VLjNmnmfsSj",
        "colab_type": "code",
        "colab": {}
      },
      "source": [
        "#What do we know about vaccines and therapeutic?\n",
        "sentence= \"What do we know about vaccines and therapeutics\"\n",
        "\n",
        "similar=get_top_similar(sentence,sentence_list,similarity_matrix,15)\n",
        "\n",
        "ind,title=list(map(list,zip(*similar)))\n",
        "titles=[]\n",
        "texts=[]\n",
        "for i in ind:\n",
        "    titles.append(all_articles.iloc[i]['title'])\n",
        "    texts.append(all_articles.iloc[i]['abstract'])\n",
        "    \n",
        "texts=list(map(clean,texts))\n",
        "text_list=' '.join(texts)\n",
        "df = prepare_df(text_list)\n",
        "draw_kg(df,c1='blue',c2='pink',c3='green')\n"
      ],
      "execution_count": null,
      "outputs": []
    },
    {
      "cell_type": "code",
      "metadata": {
        "id": "G1X7NSOyfsP_",
        "colab_type": "code",
        "colab": {}
      },
      "source": [
        "#What is the Role of the environment in transmission\n",
        "df = prepare_df(text_list)\n",
        "draw_kg(df,c1='blue',c2='pink',c3='green')"
      ],
      "execution_count": null,
      "outputs": []
    },
    {
      "cell_type": "code",
      "metadata": {
        "id": "5Cq72cS8fsLZ",
        "colab_type": "code",
        "colab": {}
      },
      "source": [
        "#What do we know about non-pharmaceutical interventions?\n",
        "\n",
        "df = prepare_df(text_list)\n",
        "draw_kg(df,c1='blue',c2='pink',c3='green')"
      ],
      "execution_count": null,
      "outputs": []
    },
    {
      "cell_type": "code",
      "metadata": {
        "id": "sbVBIzFOgDzX",
        "colab_type": "code",
        "colab": {}
      },
      "source": [
        "#What has been published about ethical and social science considerations?\n",
        "df = prepare_df(text_list)\n",
        "draw_kg(df,c1='blue',c2='pink',c3='green')"
      ],
      "execution_count": null,
      "outputs": []
    },
    {
      "cell_type": "code",
      "metadata": {
        "id": "qVmol5aTgD6I",
        "colab_type": "code",
        "colab": {}
      },
      "source": [
        "#What is known about Role of the environment in transmission?\n",
        "\n",
        "sentence=\"Role of the environment in transmission\"\n",
        "similar=get_top_similar(sentence,sentence_list,similarity_matrix,15)\n",
        "\n",
        "ind,title=list(map(list,zip(*similar)))\n",
        "titles=[]\n",
        "texts=[]\n",
        "for i in ind:\n",
        "    titles.append(all_articles.iloc[i]['title'])\n",
        "    texts.append(all_articles.iloc[i]['abstract'])\n",
        "    \n",
        "texts=list(map(clean,texts))\n",
        "text_list=' '.join(texts)\n",
        "df = prepare_df(text_list)\n",
        "draw_kg(df,c1='blue',c2='pink',c3='green')"
      ],
      "execution_count": null,
      "outputs": []
    },
    {
      "cell_type": "code",
      "metadata": {
        "id": "8k7w-jF3gD9j",
        "colab_type": "code",
        "colab": {}
      },
      "source": [
        "sentence=\"Seasonality of transmission\"\n",
        "similar=get_top_similar(sentence,sentence_list,similarity_matrix,15)\n",
        "\n",
        "ind,title=list(map(list,zip(*similar)))\n",
        "titles=[]\n",
        "texts=[]\n",
        "for i in ind:\n",
        "    titles.append(all_articles.iloc[i]['title'])\n",
        "    texts.append(all_articles.iloc[i]['abstract'])\n",
        "    \n",
        "texts=list(map(clean,texts))\n",
        "text_list=' '.join(texts)\n",
        "df = prepare_df(text_list)\n",
        "draw_kg(df,c1='blue',c2='pink',c3='green')"
      ],
      "execution_count": null,
      "outputs": []
    },
    {
      "cell_type": "code",
      "metadata": {
        "id": "tEOKiTeogD3V",
        "colab_type": "code",
        "colab": {}
      },
      "source": [
        "sentence=\"Prevalence of asymptomatic shedding and transmission\"\n",
        "similar=get_top_similar(sentence,sentence_list,similarity_matrix,15)\n",
        "\n",
        "ind,title=list(map(list,zip(*similar)))\n",
        "titles=[]\n",
        "texts=[]\n",
        "for i in ind:\n",
        "    titles.append(all_articles.iloc[i]['title'])\n",
        "    texts.append(all_articles.iloc[i]['abstract'])\n",
        "    \n",
        "texts=list(map(clean,texts))\n",
        "text_list=' '.join(texts)\n",
        "df = prepare_df(text_list)\n",
        "draw_kg(df,c1='blue',c2='pink',c3='green')"
      ],
      "execution_count": null,
      "outputs": []
    },
    {
      "cell_type": "code",
      "metadata": {
        "id": "hpteZCRdgD17",
        "colab_type": "code",
        "colab": {}
      },
      "source": [
        "sentence=\"Public health mitigation measures that could be effective for control\"\n",
        "similar=get_top_similar(sentence,sentence_list,similarity_matrix,15)\n",
        "\n",
        "ind,title=list(map(list,zip(*similar)))\n",
        "titles=[]\n",
        "texts=[]\n",
        "for i in ind:\n",
        "    titles.append(all_articles.iloc[i]['title'])\n",
        "    texts.append(all_articles.iloc[i]['abstract'])\n",
        "    \n",
        "texts=list(map(clean,texts))\n",
        "text_list=' '.join(texts)\n",
        "\n",
        "df = prepare_df(text_list)\n",
        "draw_kg(df,c1='blue',c2='pink',c3='green')"
      ],
      "execution_count": null,
      "outputs": []
    },
    {
      "cell_type": "code",
      "metadata": {
        "id": "PqndAFy0gXVL",
        "colab_type": "code",
        "colab": {}
      },
      "source": [
        ""
      ],
      "execution_count": null,
      "outputs": []
    },
    {
      "cell_type": "code",
      "metadata": {
        "id": "nJqOSJlsgXY2",
        "colab_type": "code",
        "colab": {}
      },
      "source": [
        ""
      ],
      "execution_count": null,
      "outputs": []
    },
    {
      "cell_type": "code",
      "metadata": {
        "id": "52lxxhB5gXTg",
        "colab_type": "code",
        "colab": {}
      },
      "source": [
        ""
      ],
      "execution_count": null,
      "outputs": []
    },
    {
      "cell_type": "code",
      "metadata": {
        "id": "ZEELfioOgDxj",
        "colab_type": "code",
        "colab": {}
      },
      "source": [
        ""
      ],
      "execution_count": null,
      "outputs": []
    }
  ]
}