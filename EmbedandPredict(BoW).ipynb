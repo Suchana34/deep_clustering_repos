{
  "nbformat": 4,
  "nbformat_minor": 0,
  "metadata": {
    "colab": {
      "name": "EmbedandPredict(BoW).ipynb",
      "provenance": [],
      "collapsed_sections": []
    },
    "kernelspec": {
      "name": "python3",
      "display_name": "Python 3"
    }
  },
  "cells": [
    {
      "cell_type": "code",
      "metadata": {
        "id": "NTAHEwn2525f",
        "colab_type": "code",
        "colab": {}
      },
      "source": [
        "from google.colab import drive\n",
        "#drive.mount('/content/drive')"
      ],
      "execution_count": null,
      "outputs": []
    },
    {
      "cell_type": "code",
      "metadata": {
        "id": "yq_pKBn-6DQS",
        "colab_type": "code",
        "colab": {
          "base_uri": "https://localhost:8080/",
          "height": 296
        },
        "outputId": "ba9c1713-8084-4f67-fa81-ec877a4a8c77"
      },
      "source": [
        "import pandas as pd\n",
        "df = pd.read_csv('/content/drive/My Drive/edited_topics_all_news.csv')\n",
        "df.head()"
      ],
      "execution_count": 7,
      "outputs": [
        {
          "output_type": "execute_result",
          "data": {
            "text/html": [
              "<div>\n",
              "<style scoped>\n",
              "    .dataframe tbody tr th:only-of-type {\n",
              "        vertical-align: middle;\n",
              "    }\n",
              "\n",
              "    .dataframe tbody tr th {\n",
              "        vertical-align: top;\n",
              "    }\n",
              "\n",
              "    .dataframe thead th {\n",
              "        text-align: right;\n",
              "    }\n",
              "</style>\n",
              "<table border=\"1\" class=\"dataframe\">\n",
              "  <thead>\n",
              "    <tr style=\"text-align: right;\">\n",
              "      <th></th>\n",
              "      <th>Unnamed: 0</th>\n",
              "      <th>Unnamed: 0.1</th>\n",
              "      <th>_id</th>\n",
              "      <th>topic</th>\n",
              "      <th>heading</th>\n",
              "      <th>content</th>\n",
              "      <th>tags</th>\n",
              "      <th>processed_content</th>\n",
              "      <th>processed_topic</th>\n",
              "    </tr>\n",
              "  </thead>\n",
              "  <tbody>\n",
              "    <tr>\n",
              "      <th>0</th>\n",
              "      <td>0</td>\n",
              "      <td>0</td>\n",
              "      <td>5f04d2481f35ed6864839349</td>\n",
              "      <td>[\"West-bengal\"]</td>\n",
              "      <td>[\"\\n                        \",\"\\n             ...</td>\n",
              "      <td>[\"Garbage-lined streets and overflowing drains...</td>\n",
              "      <td>[\"Garbage\",\"Salt-lake\",\"Bidhannagar-municipal-...</td>\n",
              "      <td>garbag line street overflow drain salt lake sp...</td>\n",
              "      <td>west bengal</td>\n",
              "    </tr>\n",
              "    <tr>\n",
              "      <th>1</th>\n",
              "      <td>1</td>\n",
              "      <td>1</td>\n",
              "      <td>5f04d24b1f35ed686483934a</td>\n",
              "      <td>[\"West-bengal\"]</td>\n",
              "      <td>[\"\\n                        \",\"\\n             ...</td>\n",
              "      <td>[\"The Bengal government will set up a plasma b...</td>\n",
              "      <td>[\"Calcutta-medical-college-and-hospital\",\"Coro...</td>\n",
              "      <td>bengal govern plasma bank calcutta medic colle...</td>\n",
              "      <td>west bengal</td>\n",
              "    </tr>\n",
              "    <tr>\n",
              "      <th>2</th>\n",
              "      <td>2</td>\n",
              "      <td>2</td>\n",
              "      <td>5f04d24d1f35ed686483934b</td>\n",
              "      <td>[\"West-bengal\"]</td>\n",
              "      <td>[\"\\n                        \",\"\\n             ...</td>\n",
              "      <td>[\"Bengal set another 24-hour record on Monday ...</td>\n",
              "      <td>[\"Lockdown\",\"Coronavirus\",\"Quarantine\"]</td>\n",
              "      <td>bengal hour record monday highest number covid...</td>\n",
              "      <td>west bengal</td>\n",
              "    </tr>\n",
              "    <tr>\n",
              "      <th>3</th>\n",
              "      <td>3</td>\n",
              "      <td>3</td>\n",
              "      <td>5f04d2501f35ed686483934c</td>\n",
              "      <td>[\"West-bengal\"]</td>\n",
              "      <td>[\"\\n                        \",\"\\n             ...</td>\n",
              "      <td>[\"Chief minister Mamata Banerjee on Monday sai...</td>\n",
              "      <td>[\"Mamata-banerjee\",\"Cyclone-amphan\"]</td>\n",
              "      <td>chief minist mamata banerje monday say problem...</td>\n",
              "      <td>west bengal</td>\n",
              "    </tr>\n",
              "    <tr>\n",
              "      <th>4</th>\n",
              "      <td>4</td>\n",
              "      <td>4</td>\n",
              "      <td>5f04d2531f35ed686483934d</td>\n",
              "      <td>[\"West-bengal\"]</td>\n",
              "      <td>[\"\\n                        \",\"\\n             ...</td>\n",
              "      <td>[\"Some senior historians have raised questions...</td>\n",
              "      <td>[\"Jagat-prakash-nadda\",\"Bharatiya-janata-party...</td>\n",
              "      <td>senior historian rais question attempt pitch b...</td>\n",
              "      <td>west bengal</td>\n",
              "    </tr>\n",
              "  </tbody>\n",
              "</table>\n",
              "</div>"
            ],
            "text/plain": [
              "   Unnamed: 0  ...  processed_topic\n",
              "0           0  ...      west bengal\n",
              "1           1  ...      west bengal\n",
              "2           2  ...      west bengal\n",
              "3           3  ...      west bengal\n",
              "4           4  ...      west bengal\n",
              "\n",
              "[5 rows x 9 columns]"
            ]
          },
          "metadata": {
            "tags": []
          },
          "execution_count": 7
        }
      ]
    },
    {
      "cell_type": "code",
      "metadata": {
        "id": "a5yrP9pA-XIm",
        "colab_type": "code",
        "colab": {
          "base_uri": "https://localhost:8080/",
          "height": 34
        },
        "outputId": "5a91ab2e-72a0-479e-bc8f-fc84e2697dfe"
      },
      "source": [
        "topic_names = df.processed_topic.unique()\n",
        "len(topic_names)"
      ],
      "execution_count": 21,
      "outputs": [
        {
          "output_type": "execute_result",
          "data": {
            "text/plain": [
              "50"
            ]
          },
          "metadata": {
            "tags": []
          },
          "execution_count": 21
        }
      ]
    },
    {
      "cell_type": "code",
      "metadata": {
        "id": "eDBnlQxS_e96",
        "colab_type": "code",
        "colab": {
          "base_uri": "https://localhost:8080/",
          "height": 34
        },
        "outputId": "c3688888-cfae-435d-a1fa-a1007ec1a715"
      },
      "source": [
        "num_docs = len(df.content)\n",
        "num_docs"
      ],
      "execution_count": 22,
      "outputs": [
        {
          "output_type": "execute_result",
          "data": {
            "text/plain": [
              "1274"
            ]
          },
          "metadata": {
            "tags": []
          },
          "execution_count": 22
        }
      ]
    },
    {
      "cell_type": "code",
      "metadata": {
        "id": "XRNo469j90r6",
        "colab_type": "code",
        "colab": {
          "base_uri": "https://localhost:8080/",
          "height": 857
        },
        "outputId": "30b78a69-feb5-489d-af1c-d0433fe2cefd"
      },
      "source": [
        "texts = df.processed_content\n",
        "target = np.array(df.processed_topic)\n",
        "id2labels = {x[0]:x[1] for x in enumerate(topic_names)}\n",
        "\n",
        "topic2id = {x[0]:x[1] for x in enumerate(target)}\n",
        "len(id2labels)\n",
        "id2labels"
      ],
      "execution_count": 57,
      "outputs": [
        {
          "output_type": "execute_result",
          "data": {
            "text/plain": [
              "{0: 'west bengal',\n",
              " 1: 'opinion',\n",
              " 2: 'jharkhand',\n",
              " 3: 'entertain',\n",
              " 4: 'sport',\n",
              " 5: 'busi',\n",
              " 6: 'india',\n",
              " 7: 'world',\n",
              " 8: 'cultur',\n",
              " 9: 'north east',\n",
              " 10: 'coronavirus',\n",
              " 11: 'citi',\n",
              " 12: 'supplement',\n",
              " 13: 'exclus interview',\n",
              " 14: 'featur',\n",
              " 15: 'lifestyl',\n",
              " 16: 'analysi',\n",
              " 17: 'editori',\n",
              " 18: 'column',\n",
              " 19: 'viral',\n",
              " 20: 'mumbai',\n",
              " 21: 'delhi',\n",
              " 22: 'educ',\n",
              " 23: 'bollywood',\n",
              " 24: 'cricket',\n",
              " 25: 'fashion trend',\n",
              " 26: 'fit',\n",
              " 27: 'music',\n",
              " 28: 'footbal',\n",
              " 29: 'travel',\n",
              " 30: 'region movi',\n",
              " 31: 'tenni',\n",
              " 32: 'health',\n",
              " 33: 'hollywood',\n",
              " 34: 'relationship',\n",
              " 35: 'scienc',\n",
              " 36: 'gurugram',\n",
              " 37: 'nation',\n",
              " 38: 'intern',\n",
              " 39: 'special',\n",
              " 40: 'scienc environ',\n",
              " 41: 'live',\n",
              " 42: 'state',\n",
              " 43: 'metrolif',\n",
              " 44: 'spectrum',\n",
              " 45: 'sunday herald',\n",
              " 46: 'peopl',\n",
              " 47: 'dhns',\n",
              " 48: 'technolog',\n",
              " 49: 'sunday chronicl'}"
            ]
          },
          "metadata": {
            "tags": []
          },
          "execution_count": 57
        }
      ]
    },
    {
      "cell_type": "code",
      "metadata": {
        "id": "VoZaXCxDCg__",
        "colab_type": "code",
        "colab": {
          "base_uri": "https://localhost:8080/",
          "height": 34
        },
        "outputId": "5e382ad2-37a5-4dd2-af96-de8e702cdc65"
      },
      "source": [
        "from __future__ import division, print_function\n",
        "from keras.layers import Input\n",
        "from keras.layers.core import Dense, Dropout\n",
        "from keras.models import Model\n",
        "from keras.optimizers import Adam\n",
        "from keras.utils import to_categorical\n",
        "from sklearn.datasets import fetch_20newsgroups\n",
        "from sklearn.linear_model import SGDClassifier\n",
        "from sklearn.metrics import accuracy_score, confusion_matrix\n",
        "from sklearn.model_selection import train_test_split\n",
        "import matplotlib.pyplot as plt\n",
        "import nltk\n",
        "import numpy as np\n",
        "import logging\n",
        "import os\n",
        "%matplotlib inline"
      ],
      "execution_count": null,
      "outputs": [
        {
          "output_type": "stream",
          "text": [
            "Using TensorFlow backend.\n"
          ],
          "name": "stderr"
        }
      ]
    },
    {
      "cell_type": "code",
      "metadata": {
        "id": "tYtbgvq7cTVN",
        "colab_type": "code",
        "colab": {
          "base_uri": "https://localhost:8080/",
          "height": 34
        },
        "outputId": "56f7cfa0-00cc-4728-df29-125bd509e91e"
      },
      "source": [
        "import collections\n",
        "import nltk\n",
        "#nltk.download('punkt')\n",
        "\n",
        "#vocabulary\n",
        "counter = collections.Counter()\n",
        "for text in df.content:\n",
        "    for sent in nltk.sent_tokenize(text):\n",
        "        sent = sent.encode(\"utf8\").decode(\"ascii\", \"ignore\").lower()\n",
        "        for word in nltk.word_tokenize(sent):\n",
        "            counter[word] += 1\n",
        "vocab_size = len([w for w, c in counter.most_common() if c >= 5])\n",
        "print(vocab_size)"
      ],
      "execution_count": 29,
      "outputs": [
        {
          "output_type": "stream",
          "text": [
            "10465\n"
          ],
          "name": "stdout"
        }
      ]
    },
    {
      "cell_type": "code",
      "metadata": {
        "id": "bhwKxNnCc95R",
        "colab_type": "code",
        "colab": {}
      },
      "source": [
        "VOCAB_FILE = '/content/drive/My Drive/ng-vocab.tsv'"
      ],
      "execution_count": 27,
      "outputs": []
    },
    {
      "cell_type": "code",
      "metadata": {
        "id": "DJsOL9gzczm6",
        "colab_type": "code",
        "colab": {}
      },
      "source": [
        "fvocab = open(VOCAB_FILE, \"w\")\n",
        "for word, count in counter.most_common():\n",
        "    fvocab.write(\"{:s}\\t{:d}\\n\".format(word, count))\n",
        "fvocab.close()"
      ],
      "execution_count": 31,
      "outputs": []
    },
    {
      "cell_type": "code",
      "metadata": {
        "id": "rvg-cW-Rbneh",
        "colab_type": "code",
        "colab": {}
      },
      "source": [
        ""
      ],
      "execution_count": null,
      "outputs": []
    },
    {
      "cell_type": "code",
      "metadata": {
        "id": "20q61OzcWHgP",
        "colab_type": "code",
        "colab": {
          "base_uri": "https://localhost:8080/",
          "height": 34
        },
        "outputId": "049c591f-84f5-491a-b7ea-e31a1b615c05"
      },
      "source": [
        "word2id = {\"PAD\": 0, \"UNK\": 1}\n",
        "fvocab = open(VOCAB_FILE, \"r\")\n",
        "for i, line in enumerate(fvocab):\n",
        "    word, count = line.strip().split(\"\\t\")\n",
        "    if int(count) <= 5:\n",
        "        break\n",
        "    word2id[word] = i\n",
        "fvocab.close()\n",
        "id2word = {v:k for k, v in word2id.items()}\n",
        "vocab_size = len(word2id)\n",
        "print(\"vocab_size: {:d}\".format(vocab_size))"
      ],
      "execution_count": 34,
      "outputs": [
        {
          "output_type": "stream",
          "text": [
            "vocab_size: 9138\n"
          ],
          "name": "stdout"
        }
      ]
    },
    {
      "cell_type": "code",
      "metadata": {
        "id": "J6yUQnfG-G9r",
        "colab_type": "code",
        "colab": {}
      },
      "source": [
        "#DATA_DIR = \"../data\"\n",
        "\n",
        "#VOCAB_FILE = os.path.join(DATA_DIR, \"ng-vocab.tsv\")\n",
        "#MIN_OCCURS = 5\n",
        "\n",
        "GLOVE_FILE = '/content/drive/My Drive/glove.6B.300d.txt'\n",
        "WORD_EMBED_SIZE = 300\n",
        "\n",
        "NUM_CLASSES = 50\n",
        "BATCH_SIZE = 64\n",
        "NUM_EPOCHS = 10\n",
        "\n",
        "logging.basicConfig()\n"
      ],
      "execution_count": 61,
      "outputs": []
    },
    {
      "cell_type": "code",
      "metadata": {
        "id": "pHz2o8b6JbP2",
        "colab_type": "code",
        "colab": {}
      },
      "source": [
        "BATCH_SIZE = 64\n",
        "NUM_EPOCHS = 10\n",
        "WORD_EMBED_SIZE = 200"
      ],
      "execution_count": null,
      "outputs": []
    },
    {
      "cell_type": "code",
      "metadata": {
        "id": "BVlsnlFJAZDq",
        "colab_type": "code",
        "colab": {}
      },
      "source": [
        "vocab_size = 10500"
      ],
      "execution_count": 9,
      "outputs": []
    },
    {
      "cell_type": "code",
      "metadata": {
        "id": "SbxCszjEHL4T",
        "colab_type": "code",
        "colab": {
          "base_uri": "https://localhost:8080/",
          "height": 34
        },
        "outputId": "a0f0a027-cf06-49cf-b602-32543636c5bc"
      },
      "source": [
        "#Load GloVe embeddings\n",
        "\n",
        "E = np.zeros((vocab_size, WORD_EMBED_SIZE))\n",
        "E[1] = np.random.random(WORD_EMBED_SIZE)\n",
        "fglove = open(GLOVE_FILE, \"r\")\n",
        "for line in fglove:\n",
        "    cols = line.strip().split(\" \")\n",
        "    word = cols[0]\n",
        "    if word not in word2id:\n",
        "        continue\n",
        "    vec = np.array([float(x) for x in cols[1:]])\n",
        "    idx = word2id[word]\n",
        "    E[idx] = vec\n",
        "fglove.close()\n",
        "print(E.shape)"
      ],
      "execution_count": 39,
      "outputs": [
        {
          "output_type": "stream",
          "text": [
            "(9138, 300)\n"
          ],
          "name": "stdout"
        }
      ]
    },
    {
      "cell_type": "code",
      "metadata": {
        "id": "gvFj6OdtL3i2",
        "colab_type": "code",
        "colab": {}
      },
      "source": [
        "def read_data(file_name):\n",
        "    with open(file_name,'r') as f:\n",
        "        word_vocab = set() # not using list to avoid duplicate entry\n",
        "        word2vector = {}\n",
        "        for line in f:\n",
        "            line_ = line.strip() #Remove white space\n",
        "            words_Vec = line_.split()\n",
        "            word_vocab.add(words_Vec[0])\n",
        "            word2vector[words_Vec[0]] = np.array(words_Vec[1:],dtype=float)\n",
        "    print(\"Total Words in DataSet:\",len(word_vocab))\n",
        "    return word_vocab,word2vector"
      ],
      "execution_count": null,
      "outputs": []
    },
    {
      "cell_type": "code",
      "metadata": {
        "id": "MYqfSPGKHMhx",
        "colab_type": "code",
        "colab": {}
      },
      "source": [
        "#Compute Document Vectors\n",
        "\n",
        "#ng_data = fetch_20newsgroups(subset='all',\n",
        "                             data_home=DATA_DIR,\n",
        "                             shuffle=True, \n",
        "                             random_state=42)\n",
        "#num_docs = len(ng_data.data)\n",
        "#print(num_docs)"
      ],
      "execution_count": null,
      "outputs": []
    },
    {
      "cell_type": "code",
      "metadata": {
        "id": "OvFVxhznHMgO",
        "colab_type": "code",
        "colab": {
          "base_uri": "https://localhost:8080/",
          "height": 34
        },
        "outputId": "530213ee-1da9-43a9-a801-a9a15179b9e5"
      },
      "source": [
        "D = np.zeros((num_docs, WORD_EMBED_SIZE))\n",
        "for i, text in enumerate(texts):\n",
        "    doc_vec = np.zeros(WORD_EMBED_SIZE)\n",
        "    num_words = 0\n",
        "    for sent in nltk.sent_tokenize(text):\n",
        "        sent = sent.encode(\"utf8\").decode(\"ascii\", \"ignore\").lower()\n",
        "        for word in nltk.word_tokenize(sent):\n",
        "            try:\n",
        "                doc_vec += E[word2id[word]]\n",
        "            except KeyError:\n",
        "                doc_vec += E[word2id[\"UNK\"]]\n",
        "            num_words += 1\n",
        "    doc_vec /= num_words\n",
        "    D[i] = doc_vec\n",
        "print(D.shape)"
      ],
      "execution_count": 41,
      "outputs": [
        {
          "output_type": "stream",
          "text": [
            "(1274, 300)\n"
          ],
          "name": "stdout"
        }
      ]
    },
    {
      "cell_type": "code",
      "metadata": {
        "id": "sROm-eA5o5CV",
        "colab_type": "code",
        "colab": {
          "base_uri": "https://localhost:8080/",
          "height": 34
        },
        "outputId": "3204383d-c166-48f8-9d81-5f1ffbc820f3"
      },
      "source": [
        "#actual labels\n",
        "actual_labels = np.unique(target, return_inverse=True)[1]\n",
        "#pd.factorize(df.processed_topic)[0]\n",
        "actual_labels"
      ],
      "execution_count": 60,
      "outputs": [
        {
          "output_type": "execute_result",
          "data": {
            "text/plain": [
              "array([48, 48, 48, ..., 29, 29, 29])"
            ]
          },
          "metadata": {
            "tags": []
          },
          "execution_count": 60
        }
      ]
    },
    {
      "cell_type": "code",
      "metadata": {
        "id": "LSsGsOBvHhMF",
        "colab_type": "code",
        "colab": {
          "base_uri": "https://localhost:8080/",
          "height": 34
        },
        "outputId": "623b6440-1fec-4a4b-ed36-0d286f90e4ad"
      },
      "source": [
        "#Data Generation\n",
        "\n",
        "y = actual_labels\n",
        "Y = to_categorical(y, num_classes=NUM_CLASSES)\n",
        "print(Y.shape)"
      ],
      "execution_count": 62,
      "outputs": [
        {
          "output_type": "stream",
          "text": [
            "(1274, 50)\n"
          ],
          "name": "stdout"
        }
      ]
    },
    {
      "cell_type": "code",
      "metadata": {
        "id": "F3TXdqL0HhPf",
        "colab_type": "code",
        "colab": {
          "base_uri": "https://localhost:8080/",
          "height": 34
        },
        "outputId": "13a7198b-0e35-4587-d553-17daf8ee6806"
      },
      "source": [
        "Xtrain, Xtest, Ytrain, Ytest = train_test_split(D, Y, train_size=0.7)\n",
        "print(Xtrain.shape, Ytrain.shape, Xtest.shape, Ytest.shape)"
      ],
      "execution_count": 63,
      "outputs": [
        {
          "output_type": "stream",
          "text": [
            "(891, 300) (891, 50) (383, 300) (383, 50)\n"
          ],
          "name": "stdout"
        }
      ]
    },
    {
      "cell_type": "code",
      "metadata": {
        "id": "AFcQAIhUHhKd",
        "colab_type": "code",
        "colab": {}
      },
      "source": [
        "#Define Network"
      ],
      "execution_count": null,
      "outputs": []
    },
    {
      "cell_type": "code",
      "metadata": {
        "id": "-gpopA6SJkGB",
        "colab_type": "code",
        "colab": {}
      },
      "source": [
        "inputs = Input(shape=(WORD_EMBED_SIZE, ))\n",
        "fc1 = Dense(100, activation=\"relu\")(inputs)\n",
        "fc1_dropout = Dropout(0.2)(fc1)\n",
        "fc2 = Dense(50, activation=\"relu\")(fc1_dropout)\n",
        "fc2_dropout = Dropout(0.2)(fc2)\n",
        "outputs = Dense(NUM_CLASSES, activation=\"softmax\")(fc1_dropout)"
      ],
      "execution_count": 64,
      "outputs": []
    },
    {
      "cell_type": "code",
      "metadata": {
        "id": "gn01nk-CMPAc",
        "colab_type": "code",
        "colab": {
          "base_uri": "https://localhost:8080/",
          "height": 286
        },
        "outputId": "3c114da1-7aeb-49e4-bec3-db8e243d178c"
      },
      "source": [
        "model = Model(inputs=inputs, outputs=outputs)\n",
        "\n",
        "model.compile(optimizer=\"adam\", loss=\"categorical_crossentropy\",\n",
        "             metrics=[\"accuracy\"])\n",
        "\n",
        "model.summary()"
      ],
      "execution_count": 65,
      "outputs": [
        {
          "output_type": "stream",
          "text": [
            "Model: \"model_2\"\n",
            "_________________________________________________________________\n",
            "Layer (type)                 Output Shape              Param #   \n",
            "=================================================================\n",
            "input_2 (InputLayer)         (None, 300)               0         \n",
            "_________________________________________________________________\n",
            "dense_4 (Dense)              (None, 100)               30100     \n",
            "_________________________________________________________________\n",
            "dropout_3 (Dropout)          (None, 100)               0         \n",
            "_________________________________________________________________\n",
            "dense_6 (Dense)              (None, 50)                5050      \n",
            "=================================================================\n",
            "Total params: 35,150\n",
            "Trainable params: 35,150\n",
            "Non-trainable params: 0\n",
            "_________________________________________________________________\n"
          ],
          "name": "stdout"
        }
      ]
    },
    {
      "cell_type": "code",
      "metadata": {
        "id": "isHn9ywGMiSn",
        "colab_type": "code",
        "colab": {
          "base_uri": "https://localhost:8080/",
          "height": 370
        },
        "outputId": "26868301-f9ba-4897-d9c9-8ec654cdea6f"
      },
      "source": [
        "#Train Network\n",
        "history = model.fit(Xtrain, Ytrain, batch_size=BATCH_SIZE,\n",
        "                    epochs=NUM_EPOCHS, validation_split=0.1)"
      ],
      "execution_count": 66,
      "outputs": [
        {
          "output_type": "stream",
          "text": [
            "Train on 801 samples, validate on 90 samples\n",
            "Epoch 1/10\n",
            "801/801 [==============================] - 0s 401us/step - loss: 3.8303 - accuracy: 0.0537 - val_loss: 3.6442 - val_accuracy: 0.1444\n",
            "Epoch 2/10\n",
            "801/801 [==============================] - 0s 44us/step - loss: 3.5140 - accuracy: 0.1248 - val_loss: 3.3707 - val_accuracy: 0.1444\n",
            "Epoch 3/10\n",
            "801/801 [==============================] - 0s 45us/step - loss: 3.2803 - accuracy: 0.1311 - val_loss: 3.2080 - val_accuracy: 0.1444\n",
            "Epoch 4/10\n",
            "801/801 [==============================] - 0s 39us/step - loss: 3.1488 - accuracy: 0.1760 - val_loss: 3.1514 - val_accuracy: 0.1667\n",
            "Epoch 5/10\n",
            "801/801 [==============================] - 0s 39us/step - loss: 3.0749 - accuracy: 0.1985 - val_loss: 3.1177 - val_accuracy: 0.2333\n",
            "Epoch 6/10\n",
            "801/801 [==============================] - 0s 41us/step - loss: 3.0295 - accuracy: 0.2347 - val_loss: 3.0723 - val_accuracy: 0.2444\n",
            "Epoch 7/10\n",
            "801/801 [==============================] - 0s 40us/step - loss: 2.9327 - accuracy: 0.2647 - val_loss: 3.0329 - val_accuracy: 0.2778\n",
            "Epoch 8/10\n",
            "801/801 [==============================] - 0s 38us/step - loss: 2.8897 - accuracy: 0.2659 - val_loss: 2.9872 - val_accuracy: 0.2778\n",
            "Epoch 9/10\n",
            "801/801 [==============================] - 0s 39us/step - loss: 2.8480 - accuracy: 0.2797 - val_loss: 2.9443 - val_accuracy: 0.3222\n",
            "Epoch 10/10\n",
            "801/801 [==============================] - 0s 41us/step - loss: 2.7784 - accuracy: 0.3009 - val_loss: 2.9040 - val_accuracy: 0.3333\n"
          ],
          "name": "stdout"
        }
      ]
    },
    {
      "cell_type": "code",
      "metadata": {
        "id": "JiH79bdLH4Fq",
        "colab_type": "code",
        "colab": {
          "base_uri": "https://localhost:8080/",
          "height": 297
        },
        "outputId": "3a045f70-653c-4eb4-a227-c1b35dc7f497"
      },
      "source": [
        "plt.subplot(211)\n",
        "plt.title(\"accuracy\")\n",
        "plt.plot(history.history[\"accuracy\"], color=\"r\", label=\"train\")\n",
        "plt.plot(history.history[\"val_accuracy\"], color=\"b\", label=\"val\")\n",
        "plt.legend(loc=\"best\")\n",
        "\n",
        "plt.subplot(212)\n",
        "plt.title(\"loss\")\n",
        "plt.plot(history.history[\"loss\"], color=\"r\", label=\"train\")\n",
        "plt.plot(history.history[\"val_loss\"], color=\"b\", label=\"val\")\n",
        "plt.legend(loc=\"best\")\n",
        "\n",
        "plt.tight_layout()\n",
        "plt.show()"
      ],
      "execution_count": 72,
      "outputs": [
        {
          "output_type": "display_data",
          "data": {
            "image/png": "[encoded data removed]",
            "text/plain": [
              "<Figure size 432x288 with 2 Axes>"
            ]
          },
          "metadata": {
            "tags": [],
            "needs_background": "light"
          }
        }
      ]
    },
    {
      "cell_type": "code",
      "metadata": {
        "id": "dtZ2FUgqH4Lr",
        "colab_type": "code",
        "colab": {}
      },
      "source": [
        "#Evaluate Network"
      ],
      "execution_count": null,
      "outputs": []
    },
    {
      "cell_type": "code",
      "metadata": {
        "id": "BaAmtspVH4I8",
        "colab_type": "code",
        "colab": {
          "base_uri": "https://localhost:8080/",
          "height": 202
        },
        "outputId": "74615401-3ab2-4bd1-a513-b1d1e4c11119"
      },
      "source": [
        "np.set_printoptions(linewidth=120)\n",
        "Ytest_ = model.predict(Xtest)\n",
        "ytest_ = np.argmax(Ytest_, axis=1)\n",
        "ytest = np.argmax(Ytest, axis=1)\n",
        "print(\"accuracy score: {:.3f}\".format(accuracy_score(ytest, ytest_)))\n",
        "print(\"\\nconfusion matrix\\n\")\n",
        "print(confusion_matrix(ytest, ytest_))"
      ],
      "execution_count": 70,
      "outputs": [
        {
          "output_type": "stream",
          "text": [
            "accuracy score: 0.358\n",
            "\n",
            "confusion matrix\n",
            "\n",
            "[[ 0  0  3 ...  0  0  0]\n",
            " [ 0  0  0 ...  0  0  0]\n",
            " [ 0  0 26 ...  0  0  0]\n",
            " ...\n",
            " [ 0  0  0 ...  0  0  0]\n",
            " [ 0  0  1 ...  0  0  0]\n",
            " [ 0  0  2 ...  0  0  2]]\n"
          ],
          "name": "stdout"
        }
      ]
    },
    {
      "cell_type": "code",
      "metadata": {
        "id": "-PUv295kH4EG",
        "colab_type": "code",
        "colab": {}
      },
      "source": [
        ""
      ],
      "execution_count": null,
      "outputs": []
    }
  ]
}