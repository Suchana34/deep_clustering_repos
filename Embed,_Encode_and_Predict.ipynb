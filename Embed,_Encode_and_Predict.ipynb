{
  "nbformat": 4,
  "nbformat_minor": 0,
  "metadata": {
    "colab": {
      "name": "Embed, Encode and Predict.ipynb",
      "provenance": [],
      "collapsed_sections": []
    },
    "kernelspec": {
      "name": "python3",
      "display_name": "Python 3"
    }
  },
  "cells": [
    {
      "cell_type": "code",
      "metadata": {
        "id": "NTAHEwn2525f",
        "colab_type": "code",
        "colab": {}
      },
      "source": [
        "from google.colab import drive\n",
        "#drive.mount('/content/drive')"
      ],
      "execution_count": null,
      "outputs": []
    },
    {
      "cell_type": "code",
      "metadata": {
        "id": "yq_pKBn-6DQS",
        "colab_type": "code",
        "colab": {
          "base_uri": "https://localhost:8080/",
          "height": 296
        },
        "outputId": "ba9c1713-8084-4f67-fa81-ec877a4a8c77"
      },
      "source": [
        "import pandas as pd\n",
        "df = pd.read_csv('/content/drive/My Drive/edited_topics_all_news.csv')\n",
        "df.head()"
      ],
      "execution_count": 7,
      "outputs": [
        {
          "output_type": "execute_result",
          "data": {
            "text/html": [
              "<div>\n",
              "<style scoped>\n",
              "    .dataframe tbody tr th:only-of-type {\n",
              "        vertical-align: middle;\n",
              "    }\n",
              "\n",
              "    .dataframe tbody tr th {\n",
              "        vertical-align: top;\n",
              "    }\n",
              "\n",
              "    .dataframe thead th {\n",
              "        text-align: right;\n",
              "    }\n",
              "</style>\n",
              "<table border=\"1\" class=\"dataframe\">\n",
              "  <thead>\n",
              "    <tr style=\"text-align: right;\">\n",
              "      <th></th>\n",
              "      <th>Unnamed: 0</th>\n",
              "      <th>Unnamed: 0.1</th>\n",
              "      <th>_id</th>\n",
              "      <th>topic</th>\n",
              "      <th>heading</th>\n",
              "      <th>content</th>\n",
              "      <th>tags</th>\n",
              "      <th>processed_content</th>\n",
              "      <th>processed_topic</th>\n",
              "    </tr>\n",
              "  </thead>\n",
              "  <tbody>\n",
              "    <tr>\n",
              "      <th>0</th>\n",
              "      <td>0</td>\n",
              "      <td>0</td>\n",
              "      <td>5f04d2481f35ed6864839349</td>\n",
              "      <td>[\"West-bengal\"]</td>\n",
              "      <td>[\"\\n                        \",\"\\n             ...</td>\n",
              "      <td>[\"Garbage-lined streets and overflowing drains...</td>\n",
              "      <td>[\"Garbage\",\"Salt-lake\",\"Bidhannagar-municipal-...</td>\n",
              "      <td>garbag line street overflow drain salt lake sp...</td>\n",
              "      <td>west bengal</td>\n",
              "    </tr>\n",
              "    <tr>\n",
              "      <th>1</th>\n",
              "      <td>1</td>\n",
              "      <td>1</td>\n",
              "      <td>5f04d24b1f35ed686483934a</td>\n",
              "      <td>[\"West-bengal\"]</td>\n",
              "      <td>[\"\\n                        \",\"\\n             ...</td>\n",
              "      <td>[\"The Bengal government will set up a plasma b...</td>\n",
              "      <td>[\"Calcutta-medical-college-and-hospital\",\"Coro...</td>\n",
              "      <td>bengal govern plasma bank calcutta medic colle...</td>\n",
              "      <td>west bengal</td>\n",
              "    </tr>\n",
              "    <tr>\n",
              "      <th>2</th>\n",
              "      <td>2</td>\n",
              "      <td>2</td>\n",
              "      <td>5f04d24d1f35ed686483934b</td>\n",
              "      <td>[\"West-bengal\"]</td>\n",
              "      <td>[\"\\n                        \",\"\\n             ...</td>\n",
              "      <td>[\"Bengal set another 24-hour record on Monday ...</td>\n",
              "      <td>[\"Lockdown\",\"Coronavirus\",\"Quarantine\"]</td>\n",
              "      <td>bengal hour record monday highest number covid...</td>\n",
              "      <td>west bengal</td>\n",
              "    </tr>\n",
              "    <tr>\n",
              "      <th>3</th>\n",
              "      <td>3</td>\n",
              "      <td>3</td>\n",
              "      <td>5f04d2501f35ed686483934c</td>\n",
              "      <td>[\"West-bengal\"]</td>\n",
              "      <td>[\"\\n                        \",\"\\n             ...</td>\n",
              "      <td>[\"Chief minister Mamata Banerjee on Monday sai...</td>\n",
              "      <td>[\"Mamata-banerjee\",\"Cyclone-amphan\"]</td>\n",
              "      <td>chief minist mamata banerje monday say problem...</td>\n",
              "      <td>west bengal</td>\n",
              "    </tr>\n",
              "    <tr>\n",
              "      <th>4</th>\n",
              "      <td>4</td>\n",
              "      <td>4</td>\n",
              "      <td>5f04d2531f35ed686483934d</td>\n",
              "      <td>[\"West-bengal\"]</td>\n",
              "      <td>[\"\\n                        \",\"\\n             ...</td>\n",
              "      <td>[\"Some senior historians have raised questions...</td>\n",
              "      <td>[\"Jagat-prakash-nadda\",\"Bharatiya-janata-party...</td>\n",
              "      <td>senior historian rais question attempt pitch b...</td>\n",
              "      <td>west bengal</td>\n",
              "    </tr>\n",
              "  </tbody>\n",
              "</table>\n",
              "</div>"
            ],
            "text/plain": [
              "   Unnamed: 0  ...  processed_topic\n",
              "0           0  ...      west bengal\n",
              "1           1  ...      west bengal\n",
              "2           2  ...      west bengal\n",
              "3           3  ...      west bengal\n",
              "4           4  ...      west bengal\n",
              "\n",
              "[5 rows x 9 columns]"
            ]
          },
          "metadata": {
            "tags": []
          },
          "execution_count": 7
        }
      ]
    },
    {
      "cell_type": "code",
      "metadata": {
        "id": "a5yrP9pA-XIm",
        "colab_type": "code",
        "colab": {
          "base_uri": "https://localhost:8080/",
          "height": 34
        },
        "outputId": "5a91ab2e-72a0-479e-bc8f-fc84e2697dfe"
      },
      "source": [
        "topic_names = df.processed_topic.unique()\n",
        "len(topic_names)"
      ],
      "execution_count": 21,
      "outputs": [
        {
          "output_type": "execute_result",
          "data": {
            "text/plain": [
              "50"
            ]
          },
          "metadata": {
            "tags": []
          },
          "execution_count": 21
        }
      ]
    },
    {
      "cell_type": "code",
      "metadata": {
        "id": "eDBnlQxS_e96",
        "colab_type": "code",
        "colab": {
          "base_uri": "https://localhost:8080/",
          "height": 34
        },
        "outputId": "c3688888-cfae-435d-a1fa-a1007ec1a715"
      },
      "source": [
        "num_docs = len(df.content)\n",
        "num_docs"
      ],
      "execution_count": 22,
      "outputs": [
        {
          "output_type": "execute_result",
          "data": {
            "text/plain": [
              "1274"
            ]
          },
          "metadata": {
            "tags": []
          },
          "execution_count": 22
        }
      ]
    },
    {
      "cell_type": "code",
      "metadata": {
        "id": "XRNo469j90r6",
        "colab_type": "code",
        "colab": {
          "base_uri": "https://localhost:8080/",
          "height": 857
        },
        "outputId": "30b78a69-feb5-489d-af1c-d0433fe2cefd"
      },
      "source": [
        "texts = df.processed_content\n",
        "target = np.array(df.processed_topic)\n",
        "id2labels = {x[0]:x[1] for x in enumerate(topic_names)}\n",
        "\n",
        "topic2id = {x[0]:x[1] for x in enumerate(target)}\n",
        "len(id2labels)\n",
        "id2labels"
      ],
      "execution_count": 57,
      "outputs": [
        {
          "output_type": "execute_result",
          "data": {
            "text/plain": [
              "{0: 'west bengal',\n",
              " 1: 'opinion',\n",
              " 2: 'jharkhand',\n",
              " 3: 'entertain',\n",
              " 4: 'sport',\n",
              " 5: 'busi',\n",
              " 6: 'india',\n",
              " 7: 'world',\n",
              " 8: 'cultur',\n",
              " 9: 'north east',\n",
              " 10: 'coronavirus',\n",
              " 11: 'citi',\n",
              " 12: 'supplement',\n",
              " 13: 'exclus interview',\n",
              " 14: 'featur',\n",
              " 15: 'lifestyl',\n",
              " 16: 'analysi',\n",
              " 17: 'editori',\n",
              " 18: 'column',\n",
              " 19: 'viral',\n",
              " 20: 'mumbai',\n",
              " 21: 'delhi',\n",
              " 22: 'educ',\n",
              " 23: 'bollywood',\n",
              " 24: 'cricket',\n",
              " 25: 'fashion trend',\n",
              " 26: 'fit',\n",
              " 27: 'music',\n",
              " 28: 'footbal',\n",
              " 29: 'travel',\n",
              " 30: 'region movi',\n",
              " 31: 'tenni',\n",
              " 32: 'health',\n",
              " 33: 'hollywood',\n",
              " 34: 'relationship',\n",
              " 35: 'scienc',\n",
              " 36: 'gurugram',\n",
              " 37: 'nation',\n",
              " 38: 'intern',\n",
              " 39: 'special',\n",
              " 40: 'scienc environ',\n",
              " 41: 'live',\n",
              " 42: 'state',\n",
              " 43: 'metrolif',\n",
              " 44: 'spectrum',\n",
              " 45: 'sunday herald',\n",
              " 46: 'peopl',\n",
              " 47: 'dhns',\n",
              " 48: 'technolog',\n",
              " 49: 'sunday chronicl'}"
            ]
          },
          "metadata": {
            "tags": []
          },
          "execution_count": 57
        }
      ]
    },
    {
      "cell_type": "code",
      "metadata": {
        "id": "VoZaXCxDCg__",
        "colab_type": "code",
        "colab": {}
      },
      "source": [
        "from __future__ import division, print_function\n",
        "from keras.layers import Input\n",
        "from keras.layers.core import Dense, Dropout\n",
        "from keras.layers.embeddings import Embedding\n",
        "from keras.layers.recurrent import GRU\n",
        "from keras.layers.pooling import GlobalMaxPooling1D\n",
        "from keras.layers.wrappers import TimeDistributed, Bidirectional\n",
        "from keras.models import Model\n",
        "from keras.optimizers import SGD\n",
        "from keras.utils import to_categorical\n",
        "from sklearn.datasets import fetch_20newsgroups\n",
        "from sklearn.metrics import accuracy_score, confusion_matrix\n",
        "from sklearn.model_selection import train_test_split\n",
        "import logging\n",
        "import matplotlib.pyplot as plt\n",
        "import nltk\n",
        "import numpy as np\n",
        "import os\n",
        "%matplotlib inline"
      ],
      "execution_count": 82,
      "outputs": []
    },
    {
      "cell_type": "code",
      "metadata": {
        "id": "tYtbgvq7cTVN",
        "colab_type": "code",
        "colab": {
          "base_uri": "https://localhost:8080/",
          "height": 34
        },
        "outputId": "56f7cfa0-00cc-4728-df29-125bd509e91e"
      },
      "source": [
        "import collections\n",
        "import nltk\n",
        "#nltk.download('punkt')\n",
        "\n",
        "#vocabulary\n",
        "counter = collections.Counter()\n",
        "for text in df.content:\n",
        "    for sent in nltk.sent_tokenize(text):\n",
        "        sent = sent.encode(\"utf8\").decode(\"ascii\", \"ignore\").lower()\n",
        "        for word in nltk.word_tokenize(sent):\n",
        "            counter[word] += 1\n",
        "vocab_size = len([w for w, c in counter.most_common() if c >= 5])\n",
        "print(vocab_size)"
      ],
      "execution_count": 29,
      "outputs": [
        {
          "output_type": "stream",
          "text": [
            "10465\n"
          ],
          "name": "stdout"
        }
      ]
    },
    {
      "cell_type": "code",
      "metadata": {
        "id": "bhwKxNnCc95R",
        "colab_type": "code",
        "colab": {}
      },
      "source": [
        "VOCAB_FILE = '/content/drive/My Drive/ng-vocab.tsv'"
      ],
      "execution_count": 27,
      "outputs": []
    },
    {
      "cell_type": "code",
      "metadata": {
        "id": "DJsOL9gzczm6",
        "colab_type": "code",
        "colab": {}
      },
      "source": [
        "fvocab = open(VOCAB_FILE, \"w\")\n",
        "for word, count in counter.most_common():\n",
        "    fvocab.write(\"{:s}\\t{:d}\\n\".format(word, count))\n",
        "fvocab.close()"
      ],
      "execution_count": 31,
      "outputs": []
    },
    {
      "cell_type": "code",
      "metadata": {
        "id": "rvg-cW-Rbneh",
        "colab_type": "code",
        "colab": {}
      },
      "source": [
        ""
      ],
      "execution_count": null,
      "outputs": []
    },
    {
      "cell_type": "code",
      "metadata": {
        "id": "20q61OzcWHgP",
        "colab_type": "code",
        "colab": {
          "base_uri": "https://localhost:8080/",
          "height": 34
        },
        "outputId": "049c591f-84f5-491a-b7ea-e31a1b615c05"
      },
      "source": [
        "word2id = {\"PAD\": 0, \"UNK\": 1}\n",
        "fvocab = open(VOCAB_FILE, \"r\")\n",
        "for i, line in enumerate(fvocab):\n",
        "    word, count = line.strip().split(\"\\t\")\n",
        "    if int(count) <= 5:\n",
        "        break\n",
        "    word2id[word] = i\n",
        "fvocab.close()\n",
        "id2word = {v:k for k, v in word2id.items()}\n",
        "vocab_size = len(word2id)\n",
        "print(\"vocab_size: {:d}\".format(vocab_size))"
      ],
      "execution_count": 34,
      "outputs": [
        {
          "output_type": "stream",
          "text": [
            "vocab_size: 9138\n"
          ],
          "name": "stdout"
        }
      ]
    },
    {
      "cell_type": "code",
      "metadata": {
        "id": "J6yUQnfG-G9r",
        "colab_type": "code",
        "colab": {}
      },
      "source": [
        "#DATA_DIR = \"../data\"\n",
        "\n",
        "#VOCAB_FILE = os.path.join(DATA_DIR, \"ng-vocab.tsv\")\n",
        "#MIN_OCCURS = 5\n",
        "\n",
        "GLOVE_FILE = '/content/drive/My Drive/glove.6B.300d.txt'\n",
        "WORD_EMBED_SIZE = 300\n",
        "\n",
        "NUM_CLASSES = 50\n",
        "BATCH_SIZE = 64\n",
        "NUM_EPOCHS = 10\n",
        "\n",
        "logging.basicConfig()\n"
      ],
      "execution_count": 61,
      "outputs": []
    },
    {
      "cell_type": "code",
      "metadata": {
        "id": "pHz2o8b6JbP2",
        "colab_type": "code",
        "colab": {}
      },
      "source": [
        "BATCH_SIZE = 64\n",
        "NUM_EPOCHS = 10\n",
        "WORD_EMBED_SIZE = 200"
      ],
      "execution_count": null,
      "outputs": []
    },
    {
      "cell_type": "code",
      "metadata": {
        "id": "BVlsnlFJAZDq",
        "colab_type": "code",
        "colab": {}
      },
      "source": [
        "vocab_size = 10500"
      ],
      "execution_count": 9,
      "outputs": []
    },
    {
      "cell_type": "code",
      "metadata": {
        "id": "SbxCszjEHL4T",
        "colab_type": "code",
        "colab": {
          "base_uri": "https://localhost:8080/",
          "height": 34
        },
        "outputId": "a0f0a027-cf06-49cf-b602-32543636c5bc"
      },
      "source": [
        "#Load GloVe embeddings\n",
        "\n",
        "E = np.zeros((vocab_size, WORD_EMBED_SIZE))\n",
        "E[1] = np.random.random(WORD_EMBED_SIZE)\n",
        "fglove = open(GLOVE_FILE, \"r\")\n",
        "for line in fglove:\n",
        "    cols = line.strip().split(\" \")\n",
        "    word = cols[0]\n",
        "    if word not in word2id:\n",
        "        continue\n",
        "    vec = np.array([float(x) for x in cols[1:]])\n",
        "    idx = word2id[word]\n",
        "    E[idx] = vec\n",
        "fglove.close()\n",
        "print(E.shape)"
      ],
      "execution_count": 39,
      "outputs": [
        {
          "output_type": "stream",
          "text": [
            "(9138, 300)\n"
          ],
          "name": "stdout"
        }
      ]
    },
    {
      "cell_type": "code",
      "metadata": {
        "id": "gvFj6OdtL3i2",
        "colab_type": "code",
        "colab": {}
      },
      "source": [
        "def read_data(file_name):\n",
        "    with open(file_name,'r') as f:\n",
        "        word_vocab = set() # not using list to avoid duplicate entry\n",
        "        word2vector = {}\n",
        "        for line in f:\n",
        "            line_ = line.strip() #Remove white space\n",
        "            words_Vec = line_.split()\n",
        "            word_vocab.add(words_Vec[0])\n",
        "            word2vector[words_Vec[0]] = np.array(words_Vec[1:],dtype=float)\n",
        "    print(\"Total Words in DataSet:\",len(word_vocab))\n",
        "    return word_vocab,word2vector"
      ],
      "execution_count": null,
      "outputs": []
    },
    {
      "cell_type": "code",
      "metadata": {
        "id": "MYqfSPGKHMhx",
        "colab_type": "code",
        "colab": {}
      },
      "source": [
        "#Compute Document Vectors\n",
        "\n",
        "#ng_data = fetch_20newsgroups(subset='all',\n",
        "                             data_home=DATA_DIR,\n",
        "                             shuffle=True, \n",
        "                             random_state=42)\n",
        "#num_docs = len(ng_data.data)\n",
        "#print(num_docs)"
      ],
      "execution_count": null,
      "outputs": []
    },
    {
      "cell_type": "code",
      "metadata": {
        "id": "ZHbN_w0Zv-t4",
        "colab_type": "code",
        "colab": {
          "base_uri": "https://localhost:8080/",
          "height": 50
        },
        "outputId": "f4e0a80f-4c90-4b6e-d2ab-b75ed27aaee7"
      },
      "source": [
        "def pad_or_truncate(xs, maxlen):\n",
        "    if len(xs) > maxlen:\n",
        "        xs = xs[len(xs) - maxlen:]\n",
        "    elif len(xs) < maxlen:\n",
        "        xs = [\"PAD\"] * (maxlen - len(xs)) + xs\n",
        "    return xs\n",
        "\n",
        "xs = [\"The\", \"cat\", \"fought\", \"like\", \"a\", \"mouse\"]\n",
        "print(pad_or_truncate(xs, 3))\n",
        "print(pad_or_truncate(xs, 7))"
      ],
      "execution_count": 73,
      "outputs": [
        {
          "output_type": "stream",
          "text": [
            "['like', 'a', 'mouse']\n",
            "['PAD', 'The', 'cat', 'fought', 'like', 'a', 'mouse']\n"
          ],
          "name": "stdout"
        }
      ]
    },
    {
      "cell_type": "code",
      "metadata": {
        "id": "VQcjSHIkwUcS",
        "colab_type": "code",
        "colab": {}
      },
      "source": [
        "MAX_SENTS = 40 # maximum number of sentences per document\n",
        "MAX_WORDS = 60 # maximum number of words per sentence"
      ],
      "execution_count": 75,
      "outputs": []
    },
    {
      "cell_type": "code",
      "metadata": {
        "id": "OvFVxhznHMgO",
        "colab_type": "code",
        "colab": {
          "base_uri": "https://localhost:8080/",
          "height": 34
        },
        "outputId": "db2b1513-8102-4374-c5a5-6cc0e53eb0c9"
      },
      "source": [
        "X = np.zeros((num_docs, MAX_SENTS, MAX_WORDS))\n",
        "for docid in range(num_docs):\n",
        "    text = texts[docid]\n",
        "    sents = pad_or_truncate(nltk.sent_tokenize(text), MAX_SENTS)\n",
        "    for sid, sent in enumerate(sents):\n",
        "        words = nltk.word_tokenize(sent)\n",
        "        words = pad_or_truncate(words, MAX_WORDS)\n",
        "        for wid, word in enumerate(words):\n",
        "            try:\n",
        "                word_id = word2id[word]\n",
        "            except KeyError:\n",
        "                word_id = word2id[\"UNK\"]\n",
        "            X[docid, sid, wid] = word_id\n",
        "print(X.shape)"
      ],
      "execution_count": 77,
      "outputs": [
        {
          "output_type": "stream",
          "text": [
            "(1274, 40, 60)\n"
          ],
          "name": "stdout"
        }
      ]
    },
    {
      "cell_type": "code",
      "metadata": {
        "id": "sROm-eA5o5CV",
        "colab_type": "code",
        "colab": {
          "base_uri": "https://localhost:8080/",
          "height": 34
        },
        "outputId": "b10bc245-3f71-49d3-d2d4-7a6e2c3bd244"
      },
      "source": [
        "#actual labels\n",
        "actual_labels = np.unique(target, return_inverse=True)[1]\n",
        "#pd.factorize(df.processed_topic)[0]\n",
        "actual_labels"
      ],
      "execution_count": 78,
      "outputs": [
        {
          "output_type": "execute_result",
          "data": {
            "text/plain": [
              "array([48, 48, 48, ..., 29, 29, 29])"
            ]
          },
          "metadata": {
            "tags": []
          },
          "execution_count": 78
        }
      ]
    },
    {
      "cell_type": "code",
      "metadata": {
        "id": "LSsGsOBvHhMF",
        "colab_type": "code",
        "colab": {
          "base_uri": "https://localhost:8080/",
          "height": 34
        },
        "outputId": "ecbda59a-94e9-456f-f47b-b0ece153cd6d"
      },
      "source": [
        "#Data Generation\n",
        "\n",
        "y = actual_labels\n",
        "Y = to_categorical(y, num_classes=NUM_CLASSES)\n",
        "print(Y.shape)"
      ],
      "execution_count": 79,
      "outputs": [
        {
          "output_type": "stream",
          "text": [
            "(1274, 50)\n"
          ],
          "name": "stdout"
        }
      ]
    },
    {
      "cell_type": "code",
      "metadata": {
        "id": "F3TXdqL0HhPf",
        "colab_type": "code",
        "colab": {
          "base_uri": "https://localhost:8080/",
          "height": 34
        },
        "outputId": "c03fd2e4-35fc-4258-a4b2-0b98c2b099db"
      },
      "source": [
        "Xtrain, Xtest, Ytrain, Ytest = train_test_split(D, Y, train_size=0.7)\n",
        "print(Xtrain.shape, Ytrain.shape, Xtest.shape, Ytest.shape)"
      ],
      "execution_count": 80,
      "outputs": [
        {
          "output_type": "stream",
          "text": [
            "(891, 300) (891, 50) (383, 300) (383, 50)\n"
          ],
          "name": "stdout"
        }
      ]
    },
    {
      "cell_type": "code",
      "metadata": {
        "id": "AFcQAIhUHhKd",
        "colab_type": "code",
        "colab": {}
      },
      "source": [
        "#Define Network"
      ],
      "execution_count": null,
      "outputs": []
    },
    {
      "cell_type": "code",
      "metadata": {
        "id": "-gpopA6SJkGB",
        "colab_type": "code",
        "colab": {}
      },
      "source": [
        "inputs = Input(shape=(WORD_EMBED_SIZE, ))\n",
        "fc1 = Dense(100, activation=\"relu\")(inputs)\n",
        "fc1_dropout = Dropout(0.2)(fc1)\n",
        "fc2 = Dense(50, activation=\"relu\")(fc1_dropout)\n",
        "fc2_dropout = Dropout(0.2)(fc2)\n",
        "outputs = Dense(NUM_CLASSES, activation=\"softmax\")(fc1_dropout)"
      ],
      "execution_count": 64,
      "outputs": []
    },
    {
      "cell_type": "code",
      "metadata": {
        "id": "ramyU_2Ww5Hu",
        "colab_type": "code",
        "colab": {}
      },
      "source": [
        "WORD_EMBED_SIZE = 300\n",
        "SENT_EMBED_SIZE = 100\n",
        "DOC_EMBED_SIZE = 50\n",
        "NUM_CLASSES = 20\n",
        "\n",
        "BATCH_SIZE = 64\n",
        "NUM_EPOCHS = 10\n",
        "\n",
        "logging.basicConfig()"
      ],
      "execution_count": 84,
      "outputs": []
    },
    {
      "cell_type": "code",
      "metadata": {
        "id": "ZwCjDYHVwuno",
        "colab_type": "code",
        "colab": {
          "base_uri": "https://localhost:8080/",
          "height": 252
        },
        "outputId": "720ce6af-d482-43f3-ad81-244c91415b7f"
      },
      "source": [
        "sent_inputs = Input(shape=(MAX_WORDS,), dtype=\"int32\")\n",
        "sent_emb = Embedding(input_dim=vocab_size,\n",
        "                     output_dim=WORD_EMBED_SIZE,\n",
        "                     weights=[E])(sent_inputs)\n",
        "sent_enc = Bidirectional(GRU(SENT_EMBED_SIZE))(sent_emb)\n",
        "\n",
        "sent_encoder = Model(inputs=sent_inputs, outputs=sent_enc)\n",
        "sent_encoder.summary()"
      ],
      "execution_count": 85,
      "outputs": [
        {
          "output_type": "stream",
          "text": [
            "Model: \"model_3\"\n",
            "_________________________________________________________________\n",
            "Layer (type)                 Output Shape              Param #   \n",
            "=================================================================\n",
            "input_5 (InputLayer)         (None, 60)                0         \n",
            "_________________________________________________________________\n",
            "embedding_2 (Embedding)      (None, 60, 300)           2741400   \n",
            "_________________________________________________________________\n",
            "bidirectional_1 (Bidirection (None, 200)               240600    \n",
            "=================================================================\n",
            "Total params: 2,982,000\n",
            "Trainable params: 2,982,000\n",
            "Non-trainable params: 0\n",
            "_________________________________________________________________\n"
          ],
          "name": "stdout"
        }
      ]
    },
    {
      "cell_type": "code",
      "metadata": {
        "id": "exc5gJKLxME9",
        "colab_type": "code",
        "colab": {}
      },
      "source": [
        "model.compile(optimizer=\"adam\", loss=\"categorical_crossentropy\",\n",
        "              metrics=[\"accuracy\"])"
      ],
      "execution_count": 86,
      "outputs": []
    },
    {
      "cell_type": "code",
      "metadata": {
        "id": "isHn9ywGMiSn",
        "colab_type": "code",
        "colab": {
          "base_uri": "https://localhost:8080/",
          "height": 370
        },
        "outputId": "0acadc69-d6a3-4527-e682-87d1582601d6"
      },
      "source": [
        "history = model.fit(Xtrain, Ytrain, batch_size=BATCH_SIZE,\n",
        "                   epochs=NUM_EPOCHS, validation_split=0.1)"
      ],
      "execution_count": 87,
      "outputs": [
        {
          "output_type": "stream",
          "text": [
            "Train on 801 samples, validate on 90 samples\n",
            "Epoch 1/10\n",
            "801/801 [==============================] - 0s 166us/step - loss: 2.7707 - accuracy: 0.2871 - val_loss: 2.8639 - val_accuracy: 0.3111\n",
            "Epoch 2/10\n",
            "801/801 [==============================] - 0s 41us/step - loss: 2.6872 - accuracy: 0.3096 - val_loss: 2.8224 - val_accuracy: 0.3333\n",
            "Epoch 3/10\n",
            "801/801 [==============================] - 0s 49us/step - loss: 2.6395 - accuracy: 0.3121 - val_loss: 2.7965 - val_accuracy: 0.3222\n",
            "Epoch 4/10\n",
            "801/801 [==============================] - 0s 42us/step - loss: 2.5967 - accuracy: 0.3258 - val_loss: 2.7478 - val_accuracy: 0.3333\n",
            "Epoch 5/10\n",
            "801/801 [==============================] - 0s 45us/step - loss: 2.5438 - accuracy: 0.3358 - val_loss: 2.7148 - val_accuracy: 0.3222\n",
            "Epoch 6/10\n",
            "801/801 [==============================] - 0s 45us/step - loss: 2.5112 - accuracy: 0.3346 - val_loss: 2.6905 - val_accuracy: 0.3111\n",
            "Epoch 7/10\n",
            "801/801 [==============================] - 0s 45us/step - loss: 2.4756 - accuracy: 0.3333 - val_loss: 2.6480 - val_accuracy: 0.3444\n",
            "Epoch 8/10\n",
            "801/801 [==============================] - 0s 44us/step - loss: 2.4283 - accuracy: 0.3508 - val_loss: 2.6215 - val_accuracy: 0.3222\n",
            "Epoch 9/10\n",
            "801/801 [==============================] - 0s 44us/step - loss: 2.3863 - accuracy: 0.3620 - val_loss: 2.5953 - val_accuracy: 0.3333\n",
            "Epoch 10/10\n",
            "801/801 [==============================] - 0s 47us/step - loss: 2.3675 - accuracy: 0.3670 - val_loss: 2.5635 - val_accuracy: 0.3667\n"
          ],
          "name": "stdout"
        }
      ]
    },
    {
      "cell_type": "code",
      "metadata": {
        "id": "JiH79bdLH4Fq",
        "colab_type": "code",
        "colab": {
          "base_uri": "https://localhost:8080/",
          "height": 297
        },
        "outputId": "cc4b0203-6353-4a94-bae1-2194cf02a652"
      },
      "source": [
        "plt.subplot(211)\n",
        "plt.title(\"accuracy\")\n",
        "plt.plot(history.history[\"accuracy\"], color=\"r\", label=\"train\")\n",
        "plt.plot(history.history[\"val_accuracy\"], color=\"b\", label=\"val\")\n",
        "plt.legend(loc=\"best\")\n",
        "\n",
        "plt.subplot(212)\n",
        "plt.title(\"loss\")\n",
        "plt.plot(history.history[\"loss\"], color=\"r\", label=\"train\")\n",
        "plt.plot(history.history[\"val_loss\"], color=\"b\", label=\"val\")\n",
        "plt.legend(loc=\"best\")\n",
        "\n",
        "plt.tight_layout()\n",
        "plt.show()"
      ],
      "execution_count": 88,
      "outputs": [
        {
          "output_type": "display_data",
          "data": {
            "image/png": "[encoded data removed]",
            "text/plain": [
              "<Figure size 432x288 with 2 Axes>"
            ]
          },
          "metadata": {
            "tags": [],
            "needs_background": "light"
          }
        }
      ]
    },
    {
      "cell_type": "code",
      "metadata": {
        "id": "dtZ2FUgqH4Lr",
        "colab_type": "code",
        "colab": {}
      },
      "source": [
        "#Evaluate Network"
      ],
      "execution_count": null,
      "outputs": []
    },
    {
      "cell_type": "code",
      "metadata": {
        "id": "BaAmtspVH4I8",
        "colab_type": "code",
        "colab": {
          "base_uri": "https://localhost:8080/",
          "height": 202
        },
        "outputId": "e6c88a61-6673-4dee-e55e-d2643cc81c11"
      },
      "source": [
        "np.set_printoptions(linewidth=120)\n",
        "Ytest_ = model.predict(Xtest)\n",
        "ytest_ = np.argmax(Ytest_, axis=1)\n",
        "ytest = np.argmax(Ytest, axis=1)\n",
        "print(\"accuracy score: {:.3f}\".format(accuracy_score(ytest, ytest_)))\n",
        "print(\"\\nconfusion matrix\\n\")\n",
        "print(confusion_matrix(ytest, ytest_))"
      ],
      "execution_count": 89,
      "outputs": [
        {
          "output_type": "stream",
          "text": [
            "accuracy score: 0.426\n",
            "\n",
            "confusion matrix\n",
            "\n",
            "[[ 0  0  0 ...  0  0  0]\n",
            " [ 0  0  0 ...  0  0  0]\n",
            " [ 0  0 32 ...  0  0  1]\n",
            " ...\n",
            " [ 0  0  0 ...  0  0  0]\n",
            " [ 0  0  0 ...  0  0  1]\n",
            " [ 0  0  2 ...  0  0 15]]\n"
          ],
          "name": "stdout"
        }
      ]
    },
    {
      "cell_type": "code",
      "metadata": {
        "id": "-PUv295kH4EG",
        "colab_type": "code",
        "colab": {}
      },
      "source": [
        ""
      ],
      "execution_count": null,
      "outputs": []
    }
  ]
}